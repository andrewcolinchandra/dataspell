{
 "cells": [
  {
   "cell_type": "markdown",
   "source": [
    "This Jupyter Notebook is to process and analyze data from Acumatica\n"
   ],
   "metadata": {
    "collapsed": false,
    "pycharm": {
     "name": "#%% md\n"
    }
   }
  },
  {
   "cell_type": "markdown",
   "source": [
    "First setup the connection and put the data into a dataframe\n"
   ],
   "metadata": {
    "collapsed": false,
    "pycharm": {
     "name": "#%% md\n"
    }
   }
  },
  {
   "cell_type": "code",
   "execution_count": 14,
   "outputs": [],
   "source": [
    "import requests\n",
    "import pandas\n",
    "\n",
    "SERVERINSTANCE = 'https://asg.acumatica.com/odata/ASGJKT/'\n",
    "ODATAGI = 'NSpo'\n",
    "ODATAOPTIONS = '?$format=json'\n",
    "SERVICE_URL = SERVERINSTANCE + ODATAGI + ODATAOPTIONS\n",
    "\n",
    "HTTP_LIB=requests.Session()\n",
    "HTTP_LIB.auth = ('NETSTOCK2', 'uE2Mf4ZKKdt^jWzNyaHPFgTD22CWR2ziKWMx42yAD3!&qLxLw5KrNaxjYNVwE%^UCBs44K2wy!QeC#nQKT%n2^g6GyqZHAcktdqBMwMsZJ6bGCnAv3y3rF2vSuZa9utP')\n",
    "HTTP_LIB.verify=True\n",
    "\n",
    "r = requests.get(SERVICE_URL, auth=HTTP_LIB.auth, verify=HTTP_LIB.verify)"
   ],
   "metadata": {
    "collapsed": false,
    "pycharm": {
     "name": "#%%\n"
    }
   }
  },
  {
   "cell_type": "code",
   "execution_count": 15,
   "outputs": [
    {
     "data": {
      "text/plain": "<Response [200]>"
     },
     "execution_count": 15,
     "metadata": {},
     "output_type": "execute_result"
    }
   ],
   "source": [
    "r"
   ],
   "metadata": {
    "collapsed": false,
    "pycharm": {
     "name": "#%%\n"
    }
   }
  },
  {
   "cell_type": "code",
   "execution_count": 17,
   "outputs": [
    {
     "data": {
      "text/plain": "                           ItemCode    Location SupplierCode OrderNumber  \\\n0    FRCSFMTA5A0109C0V               WH33-DCJKT   LR019I       22-000731   \n1    FRCSFMTA5A2009C0V               WH33-DCJKT   LR019I       22-000731   \n2    FWSSFACWRFA300797CP             WH33-DCJKT   LR019I       22-000847   \n3    FRCBN00A32788400D               WH33-DCJKT   LR019I       22-000906   \n4    FRCBN00A33799100D               WH33-DCJKT   LR019I       22-000920   \n..                              ...         ...          ...         ...   \n922  FRCCT00A34647M00D               WH33-DCJKT   LR019I       22-002659   \n923  FRCCT00A80D472001               WH33-DCJKT   LR019I       22-002659   \n924  FRCCT00A890070020               WH33-DCJKT   LR019I       22-002659   \n925  FRCCT00A890195000               WH33-DCJKT   LR019I       22-002659   \n926  FWSSFSTTBA-X632                 WH33-DCJKT   IN001        22-002661   \n\n    LineNumber            OrderDate OrderQuantity  ExpectedArrivalDate  \\\n0            4  2022-03-16T00:00:00      2.000000  2022-07-15T00:00:00   \n1            5  2022-03-16T00:00:00      2.000000  2022-07-15T00:00:00   \n2            1  2022-03-29T00:00:00     20.000000  2022-07-28T00:00:00   \n3            3  2022-04-06T00:00:00      5.000000  2022-07-05T00:00:00   \n4            4  2022-04-08T00:00:00     57.000000  2022-08-03T00:00:00   \n..         ...                  ...           ...                  ...   \n922          1  2022-10-05T00:00:00      4.000000  2022-11-04T00:00:00   \n923          2  2022-10-05T00:00:00      4.000000  2022-11-04T00:00:00   \n924          3  2022-10-05T00:00:00      4.000000  2022-11-04T00:00:00   \n925          4  2022-10-05T00:00:00      4.000000  2022-11-04T00:00:00   \n926          1  2022-10-05T00:00:00      1.000000  2023-01-13T00:00:00   \n\n    OutstandingQuantity OrderType PurchaseUnitCost OrderType_2   OrderNbr  \\\n0              2.000000         P   1321912.150000          RO  22-000731   \n1              2.000000         P   1041999.060000          RO  22-000731   \n2              9.000000         P    138953.628406          RO  22-000847   \n3              4.000000         P    640188.330000          RO  22-000906   \n4             57.000000         P    304744.100000          RO  22-000920   \n..                  ...       ...              ...         ...        ...   \n922            4.000000         P   1480221.820000          RO  22-002659   \n923            4.000000         P    828000.990000          RO  22-002659   \n924            4.000000         P   2561000.000000          RO  22-002659   \n925            4.000000         P                0          RO  22-002659   \n926            1.000000         P    707000.000000          RO  22-002661   \n\n     LineNbr  RecordID    Type OrderNbr_2                     InventoryID  \n0          4   12354.0  Normal  22-000731  FRCSFMTA5A0109C0V               \n1          5   12353.0  Normal  22-000731  FRCSFMTA5A2009C0V               \n2          1    3136.0  Normal  22-000847  FWSSFACWRFA300797CP             \n3          3   12068.0  Normal  22-000906  FRCBN00A32788400D               \n4          4   12083.0  Normal  22-000920  FRCBN00A33799100D               \n..       ...       ...     ...        ...                             ...  \n922        1    2337.0  Normal  22-002659  FRCCT00A34647M00D               \n923        2   12424.0  Normal  22-002659  FRCCT00A80D472001               \n924        3   13829.0  Normal  22-002659  FRCCT00A890070020               \n925        4       NaN  Normal  22-002659  FRCCT00A890195000               \n926        1   13719.0  Normal  22-002661  FWSSFSTTBA-X632                 \n\n[927 rows x 18 columns]",
      "text/html": "<div>\n<style scoped>\n    .dataframe tbody tr th:only-of-type {\n        vertical-align: middle;\n    }\n\n    .dataframe tbody tr th {\n        vertical-align: top;\n    }\n\n    .dataframe thead th {\n        text-align: right;\n    }\n</style>\n<table border=\"1\" class=\"dataframe\">\n  <thead>\n    <tr style=\"text-align: right;\">\n      <th></th>\n      <th>ItemCode</th>\n      <th>Location</th>\n      <th>SupplierCode</th>\n      <th>OrderNumber</th>\n      <th>LineNumber</th>\n      <th>OrderDate</th>\n      <th>OrderQuantity</th>\n      <th>ExpectedArrivalDate</th>\n      <th>OutstandingQuantity</th>\n      <th>OrderType</th>\n      <th>PurchaseUnitCost</th>\n      <th>OrderType_2</th>\n      <th>OrderNbr</th>\n      <th>LineNbr</th>\n      <th>RecordID</th>\n      <th>Type</th>\n      <th>OrderNbr_2</th>\n      <th>InventoryID</th>\n    </tr>\n  </thead>\n  <tbody>\n    <tr>\n      <th>0</th>\n      <td>FRCSFMTA5A0109C0V</td>\n      <td>WH33-DCJKT</td>\n      <td>LR019I</td>\n      <td>22-000731</td>\n      <td>4</td>\n      <td>2022-03-16T00:00:00</td>\n      <td>2.000000</td>\n      <td>2022-07-15T00:00:00</td>\n      <td>2.000000</td>\n      <td>P</td>\n      <td>1321912.150000</td>\n      <td>RO</td>\n      <td>22-000731</td>\n      <td>4</td>\n      <td>12354.0</td>\n      <td>Normal</td>\n      <td>22-000731</td>\n      <td>FRCSFMTA5A0109C0V</td>\n    </tr>\n    <tr>\n      <th>1</th>\n      <td>FRCSFMTA5A2009C0V</td>\n      <td>WH33-DCJKT</td>\n      <td>LR019I</td>\n      <td>22-000731</td>\n      <td>5</td>\n      <td>2022-03-16T00:00:00</td>\n      <td>2.000000</td>\n      <td>2022-07-15T00:00:00</td>\n      <td>2.000000</td>\n      <td>P</td>\n      <td>1041999.060000</td>\n      <td>RO</td>\n      <td>22-000731</td>\n      <td>5</td>\n      <td>12353.0</td>\n      <td>Normal</td>\n      <td>22-000731</td>\n      <td>FRCSFMTA5A2009C0V</td>\n    </tr>\n    <tr>\n      <th>2</th>\n      <td>FWSSFACWRFA300797CP</td>\n      <td>WH33-DCJKT</td>\n      <td>LR019I</td>\n      <td>22-000847</td>\n      <td>1</td>\n      <td>2022-03-29T00:00:00</td>\n      <td>20.000000</td>\n      <td>2022-07-28T00:00:00</td>\n      <td>9.000000</td>\n      <td>P</td>\n      <td>138953.628406</td>\n      <td>RO</td>\n      <td>22-000847</td>\n      <td>1</td>\n      <td>3136.0</td>\n      <td>Normal</td>\n      <td>22-000847</td>\n      <td>FWSSFACWRFA300797CP</td>\n    </tr>\n    <tr>\n      <th>3</th>\n      <td>FRCBN00A32788400D</td>\n      <td>WH33-DCJKT</td>\n      <td>LR019I</td>\n      <td>22-000906</td>\n      <td>3</td>\n      <td>2022-04-06T00:00:00</td>\n      <td>5.000000</td>\n      <td>2022-07-05T00:00:00</td>\n      <td>4.000000</td>\n      <td>P</td>\n      <td>640188.330000</td>\n      <td>RO</td>\n      <td>22-000906</td>\n      <td>3</td>\n      <td>12068.0</td>\n      <td>Normal</td>\n      <td>22-000906</td>\n      <td>FRCBN00A32788400D</td>\n    </tr>\n    <tr>\n      <th>4</th>\n      <td>FRCBN00A33799100D</td>\n      <td>WH33-DCJKT</td>\n      <td>LR019I</td>\n      <td>22-000920</td>\n      <td>4</td>\n      <td>2022-04-08T00:00:00</td>\n      <td>57.000000</td>\n      <td>2022-08-03T00:00:00</td>\n      <td>57.000000</td>\n      <td>P</td>\n      <td>304744.100000</td>\n      <td>RO</td>\n      <td>22-000920</td>\n      <td>4</td>\n      <td>12083.0</td>\n      <td>Normal</td>\n      <td>22-000920</td>\n      <td>FRCBN00A33799100D</td>\n    </tr>\n    <tr>\n      <th>...</th>\n      <td>...</td>\n      <td>...</td>\n      <td>...</td>\n      <td>...</td>\n      <td>...</td>\n      <td>...</td>\n      <td>...</td>\n      <td>...</td>\n      <td>...</td>\n      <td>...</td>\n      <td>...</td>\n      <td>...</td>\n      <td>...</td>\n      <td>...</td>\n      <td>...</td>\n      <td>...</td>\n      <td>...</td>\n      <td>...</td>\n    </tr>\n    <tr>\n      <th>922</th>\n      <td>FRCCT00A34647M00D</td>\n      <td>WH33-DCJKT</td>\n      <td>LR019I</td>\n      <td>22-002659</td>\n      <td>1</td>\n      <td>2022-10-05T00:00:00</td>\n      <td>4.000000</td>\n      <td>2022-11-04T00:00:00</td>\n      <td>4.000000</td>\n      <td>P</td>\n      <td>1480221.820000</td>\n      <td>RO</td>\n      <td>22-002659</td>\n      <td>1</td>\n      <td>2337.0</td>\n      <td>Normal</td>\n      <td>22-002659</td>\n      <td>FRCCT00A34647M00D</td>\n    </tr>\n    <tr>\n      <th>923</th>\n      <td>FRCCT00A80D472001</td>\n      <td>WH33-DCJKT</td>\n      <td>LR019I</td>\n      <td>22-002659</td>\n      <td>2</td>\n      <td>2022-10-05T00:00:00</td>\n      <td>4.000000</td>\n      <td>2022-11-04T00:00:00</td>\n      <td>4.000000</td>\n      <td>P</td>\n      <td>828000.990000</td>\n      <td>RO</td>\n      <td>22-002659</td>\n      <td>2</td>\n      <td>12424.0</td>\n      <td>Normal</td>\n      <td>22-002659</td>\n      <td>FRCCT00A80D472001</td>\n    </tr>\n    <tr>\n      <th>924</th>\n      <td>FRCCT00A890070020</td>\n      <td>WH33-DCJKT</td>\n      <td>LR019I</td>\n      <td>22-002659</td>\n      <td>3</td>\n      <td>2022-10-05T00:00:00</td>\n      <td>4.000000</td>\n      <td>2022-11-04T00:00:00</td>\n      <td>4.000000</td>\n      <td>P</td>\n      <td>2561000.000000</td>\n      <td>RO</td>\n      <td>22-002659</td>\n      <td>3</td>\n      <td>13829.0</td>\n      <td>Normal</td>\n      <td>22-002659</td>\n      <td>FRCCT00A890070020</td>\n    </tr>\n    <tr>\n      <th>925</th>\n      <td>FRCCT00A890195000</td>\n      <td>WH33-DCJKT</td>\n      <td>LR019I</td>\n      <td>22-002659</td>\n      <td>4</td>\n      <td>2022-10-05T00:00:00</td>\n      <td>4.000000</td>\n      <td>2022-11-04T00:00:00</td>\n      <td>4.000000</td>\n      <td>P</td>\n      <td>0</td>\n      <td>RO</td>\n      <td>22-002659</td>\n      <td>4</td>\n      <td>NaN</td>\n      <td>Normal</td>\n      <td>22-002659</td>\n      <td>FRCCT00A890195000</td>\n    </tr>\n    <tr>\n      <th>926</th>\n      <td>FWSSFSTTBA-X632</td>\n      <td>WH33-DCJKT</td>\n      <td>IN001</td>\n      <td>22-002661</td>\n      <td>1</td>\n      <td>2022-10-05T00:00:00</td>\n      <td>1.000000</td>\n      <td>2023-01-13T00:00:00</td>\n      <td>1.000000</td>\n      <td>P</td>\n      <td>707000.000000</td>\n      <td>RO</td>\n      <td>22-002661</td>\n      <td>1</td>\n      <td>13719.0</td>\n      <td>Normal</td>\n      <td>22-002661</td>\n      <td>FWSSFSTTBA-X632</td>\n    </tr>\n  </tbody>\n</table>\n<p>927 rows × 18 columns</p>\n</div>"
     },
     "execution_count": 17,
     "metadata": {},
     "output_type": "execute_result"
    }
   ],
   "source": [
    "df = pandas.json_normalize(r.json()['value'])\n",
    "df"
   ],
   "metadata": {
    "collapsed": false,
    "pycharm": {
     "name": "#%%\n"
    }
   }
  },
  {
   "cell_type": "code",
   "execution_count": 18,
   "outputs": [],
   "source": [
    "df.to_csv('./NSpo.csv', index=False)"
   ],
   "metadata": {
    "collapsed": false,
    "pycharm": {
     "name": "#%%\n"
    }
   }
  },
  {
   "cell_type": "code",
   "execution_count": null,
   "outputs": [],
   "source": [
    "df = df[['ShipmentNbr', 'InventoryID', 'Description', 'SOShipLineSplit_origOrderType', 'Weight', 'Quantity', 'PriceperUnit', 'ShipmentNbr', 'ShipmentType', 'LineNbr', 'SplitLineNbr', 'AddressID', 'WarehouseID']]\n",
    "df['Weight'] = pandas.to_numeric(df['Weight'])"
   ],
   "metadata": {
    "collapsed": false,
    "pycharm": {
     "name": "#%%\n"
    }
   }
  },
  {
   "cell_type": "code",
   "execution_count": null,
   "outputs": [],
   "source": [
    "weight = df.groupby(['InventoryID','WarehouseID'])['Weight'].sum().reset_index()\n",
    "weight.loc[weight['Weight'] > 0]"
   ],
   "metadata": {
    "collapsed": false,
    "pycharm": {
     "name": "#%%\n"
    }
   }
  },
  {
   "cell_type": "code",
   "execution_count": null,
   "outputs": [],
   "source": [],
   "metadata": {
    "collapsed": false,
    "pycharm": {
     "name": "#%%\n"
    }
   }
  }
 ],
 "metadata": {
  "kernelspec": {
   "display_name": "Python 3",
   "language": "python",
   "name": "python3"
  },
  "language_info": {
   "codemirror_mode": {
    "name": "ipython",
    "version": 2
   },
   "file_extension": ".py",
   "mimetype": "text/x-python",
   "name": "python",
   "nbconvert_exporter": "python",
   "pygments_lexer": "ipython2",
   "version": "2.7.6"
  }
 },
 "nbformat": 4,
 "nbformat_minor": 0
}
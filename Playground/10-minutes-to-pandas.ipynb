{
 "cells": [
  {
   "cell_type": "markdown",
   "metadata": {
    "_cell_guid": "daffadeb-f0c8-4a27-b62c-aea950edc588",
    "_uuid": "e0e294bdfc0df9aa8f58fb8b6ae828c7ae062ccd"
   },
   "source": [
    "This guide comes directly from the [10 Minute Guide to Pandas](https://pandas.pydata.org/pandas-docs/stable/10min.html) on the Pandas official website. I ported it into this kernel to make the code more accessible. This guide is geared towards beginners who haven't used Pandas before. It has great examples on how powerful Pandas can be. Enjoy!"
   ]
  },
  {
   "cell_type": "markdown",
   "metadata": {
    "_cell_guid": "da21b90d-98fc-483f-bf58-bd1dacf7027c",
    "_kg_hide-input": true,
    "_uuid": "90fb4599b093efccc95cacb6db2da95bcd695545"
   },
   "source": [
    "### This is a short introduction to pandas, geared mainly for new users. You can see more complex recipes in the [Cookbook](https://pandas.pydata.org/pandas-docs/stable/cookbook.html#cookbook)"
   ]
  },
  {
   "cell_type": "code",
   "execution_count": 1,
   "metadata": {
    "_cell_guid": "f26dff57-ef68-4cbf-86f1-b027cc75d6c1",
    "_uuid": "e0a227d03ea6a2d1995268f8cea078357eb596d4",
    "collapsed": true,
    "ExecuteTime": {
     "start_time": "2023-04-14T13:48:32.347746Z",
     "end_time": "2023-04-14T13:48:34.558338Z"
    }
   },
   "outputs": [
    {
     "ename": "ModuleNotFoundError",
     "evalue": "No module named 'matplotlib'",
     "output_type": "error",
     "traceback": [
      "\u001B[0;31m---------------------------------------------------------------------------\u001B[0m",
      "\u001B[0;31mModuleNotFoundError\u001B[0m                       Traceback (most recent call last)",
      "Cell \u001B[0;32mIn[1], line 3\u001B[0m\n\u001B[1;32m      1\u001B[0m \u001B[38;5;28;01mimport\u001B[39;00m \u001B[38;5;21;01mpandas\u001B[39;00m \u001B[38;5;28;01mas\u001B[39;00m \u001B[38;5;21;01mpd\u001B[39;00m\n\u001B[1;32m      2\u001B[0m \u001B[38;5;28;01mimport\u001B[39;00m \u001B[38;5;21;01mnumpy\u001B[39;00m \u001B[38;5;28;01mas\u001B[39;00m \u001B[38;5;21;01mnp\u001B[39;00m\n\u001B[0;32m----> 3\u001B[0m \u001B[38;5;28;01mimport\u001B[39;00m \u001B[38;5;21;01mmatplotlib\u001B[39;00m\u001B[38;5;21;01m.\u001B[39;00m\u001B[38;5;21;01mpyplot\u001B[39;00m \u001B[38;5;28;01mas\u001B[39;00m \u001B[38;5;21;01mplt\u001B[39;00m\n",
      "\u001B[0;31mModuleNotFoundError\u001B[0m: No module named 'matplotlib'"
     ]
    }
   ],
   "source": [
    "import pandas as pd\n",
    "import numpy as np\n",
    "import matplotlib.pyplot as plt"
   ]
  },
  {
   "cell_type": "markdown",
   "metadata": {
    "_cell_guid": "0c4de500-e940-428a-a624-d72cf69055ae",
    "_uuid": "666bd202e06457942b464ff348f49256eb40cb10"
   },
   "source": [
    "# Object Creation\n",
    "See the [Data Structure Intro section](Data Structure Intro section). Creating a Series by passing a list of values, letting pandas create a default integer index:"
   ]
  },
  {
   "cell_type": "code",
   "execution_count": null,
   "metadata": {
    "_cell_guid": "684d2ff9-f491-4384-b51d-d89a545f40a6",
    "_uuid": "3d527ebba36697ffcf0b5d46ef717172edcb0539",
    "collapsed": true,
    "ExecuteTime": {
     "start_time": "2023-04-14T13:48:32.377763Z",
     "end_time": "2023-04-14T13:48:35.798622Z"
    }
   },
   "outputs": [],
   "source": [
    "s = pd.Series([1,3,5,np.nan,6,8])\n",
    "s"
   ]
  },
  {
   "cell_type": "markdown",
   "metadata": {
    "_cell_guid": "a34354da-ed7a-4b6c-b29a-371b98778256",
    "_uuid": "762a9ec540f47f1aeba21b5a7deb1cf51a0994eb"
   },
   "source": [
    "Creating a [DataFrame](https://pandas.pydata.org/pandas-docs/stable/generated/pandas.DataFrame.html#pandas.DataFrame) by passing a numpy array, with a datetime index and labeled columns:"
   ]
  },
  {
   "cell_type": "code",
   "execution_count": null,
   "metadata": {
    "_cell_guid": "1f57494c-5ec2-49a4-adb4-4843d5c39c62",
    "_uuid": "50b786a38ed5b11ec29c308d29599623c26f0f23",
    "collapsed": true,
    "ExecuteTime": {
     "start_time": "2023-04-14T13:48:32.413506Z",
     "end_time": "2023-04-14T13:48:35.850501Z"
    }
   },
   "outputs": [],
   "source": [
    "dates = pd.date_range('20141101', periods=6)\n",
    "dates"
   ]
  },
  {
   "cell_type": "code",
   "execution_count": null,
   "metadata": {
    "_cell_guid": "e29399aa-3818-4dd8-bc3b-634aa5c3fe78",
    "_uuid": "b21c8f9e3992c18eb839851aaa6ad057654e9082",
    "collapsed": true,
    "ExecuteTime": {
     "start_time": "2023-04-14T13:48:32.423933Z",
     "end_time": "2023-04-14T13:48:35.850864Z"
    }
   },
   "outputs": [],
   "source": [
    "df = pd.DataFrame(np.random.randn(6,4), index=dates,columns=['one','two','three','four'])\n",
    "df"
   ]
  },
  {
   "cell_type": "markdown",
   "metadata": {
    "_cell_guid": "6622566b-e889-4589-88db-9e6ac53bda43",
    "_uuid": "886f7623a8e6ef893a83174796656aa7417c72be"
   },
   "source": [
    "Creating a DataFrame by passing a dict of objects that can be converted to series-like."
   ]
  },
  {
   "cell_type": "code",
   "execution_count": null,
   "metadata": {
    "_cell_guid": "a36d23bb-aa78-4964-984f-1c0fef73c85b",
    "_uuid": "91c969a5e0dede5ed222df08fda0a19e7ecb6ba9",
    "collapsed": true,
    "ExecuteTime": {
     "start_time": "2023-04-14T13:48:32.446050Z",
     "end_time": "2023-04-14T13:48:35.855258Z"
    }
   },
   "outputs": [],
   "source": [
    "df2 = pd.DataFrame({ 'A' : 1.,\n",
    "                     ....:                      'B' : pd.Timestamp('20130102'),\n",
    "....:                      'C' : pd.Series(1,index=list(range(4)),dtype='float32'),\n",
    "....:                      'D' : np.array([3] * 4,dtype='int32'),\n",
    "....:                      'E' : pd.Categorical([\"test\",\"train\",\"test\",\"train\"]),\n",
    "....:                      'F' : 'foo' })\n",
    "....:\n",
    "df2"
   ]
  },
  {
   "cell_type": "markdown",
   "metadata": {
    "_cell_guid": "10d03951-7cbd-4ee0-9302-1a77697a74f2",
    "_uuid": "05e30726935db33f49e624f496fc8c953be46383"
   },
   "source": [
    "Having specific [dtypes](https://pandas.pydata.org/pandas-docs/stable/basics.html#basics-dtypes):"
   ]
  },
  {
   "cell_type": "code",
   "execution_count": null,
   "metadata": {
    "_cell_guid": "e862ec95-5893-4f46-ac7d-4d8a638ffc1f",
    "_uuid": "9e7f0e3693cf1f63718fce13feed81c93ed22d58",
    "collapsed": true,
    "ExecuteTime": {
     "start_time": "2023-04-14T13:48:32.474235Z",
     "end_time": "2023-04-14T13:48:35.859792Z"
    }
   },
   "outputs": [],
   "source": [
    "df2.dtypes"
   ]
  },
  {
   "cell_type": "markdown",
   "metadata": {
    "_cell_guid": "860dc5f5-ce12-47b0-b0b1-09cc4aba5f73",
    "_uuid": "886b98db6af991c2ec742c18085b0b8a7b88d31f"
   },
   "source": [
    "\n",
    "# Viewing Data\n",
    "See the [Basics section](https://pandas.pydata.org/pandas-docs/stable/basics.html#basics)\n",
    "See the top & bottom rows of the frame"
   ]
  },
  {
   "cell_type": "code",
   "execution_count": null,
   "metadata": {
    "_cell_guid": "b1b5ca0e-4b43-4ec9-80ee-65b807d234d2",
    "_uuid": "c1d9e77ee2cfdc5b81af10b29565a9166ca01994",
    "collapsed": true,
    "ExecuteTime": {
     "start_time": "2023-04-14T13:48:32.510258Z",
     "end_time": "2023-04-14T13:48:35.879969Z"
    }
   },
   "outputs": [],
   "source": [
    "df.head()"
   ]
  },
  {
   "cell_type": "code",
   "execution_count": null,
   "metadata": {
    "_cell_guid": "3428b24c-520e-4d23-b439-9c9e2b8d353d",
    "_uuid": "74c7c24d7adc0382cdc6055a88643ea7cbe2c111",
    "collapsed": true,
    "ExecuteTime": {
     "start_time": "2023-04-14T13:48:32.519473Z",
     "end_time": "2023-04-14T13:48:35.880275Z"
    }
   },
   "outputs": [],
   "source": [
    "df.tail(3)"
   ]
  },
  {
   "cell_type": "markdown",
   "metadata": {
    "_cell_guid": "efec648c-6c39-4b09-a87e-cf3dc723ff0b",
    "_uuid": "5c4372dac3fba6ebf7fc16e222ab135529dfb3fe"
   },
   "source": [
    "Display the index, columns, and the underlying numpy data"
   ]
  },
  {
   "cell_type": "code",
   "execution_count": null,
   "metadata": {
    "_cell_guid": "53a240a3-ecb2-4f38-8862-da1d00aedf7c",
    "_uuid": "056ab69a40592e47b9e07cb2514784eb50d81ade",
    "collapsed": true,
    "ExecuteTime": {
     "start_time": "2023-04-14T13:48:32.533180Z",
     "end_time": "2023-04-14T13:48:35.904896Z"
    }
   },
   "outputs": [],
   "source": [
    "df.index"
   ]
  },
  {
   "cell_type": "code",
   "execution_count": null,
   "metadata": {
    "_cell_guid": "a9cae030-681e-4b3d-993f-0e2cbaaa10a9",
    "_uuid": "b86456edbcc2249100502525c1fd38dd4235d0f3",
    "collapsed": true,
    "ExecuteTime": {
     "start_time": "2023-04-14T13:48:32.539366Z",
     "end_time": "2023-04-14T13:48:35.905287Z"
    }
   },
   "outputs": [],
   "source": [
    "df.columns"
   ]
  },
  {
   "cell_type": "code",
   "execution_count": null,
   "metadata": {
    "_cell_guid": "0d442ada-0d41-4fe4-a843-48592068306d",
    "_uuid": "842fe1b27b0714ee2155a657e3eec4f3719a40b0",
    "collapsed": true,
    "ExecuteTime": {
     "start_time": "2023-04-14T13:48:32.542461Z",
     "end_time": "2023-04-14T13:48:35.905559Z"
    }
   },
   "outputs": [],
   "source": [
    "df.values"
   ]
  },
  {
   "cell_type": "markdown",
   "metadata": {
    "_cell_guid": "ab9e7b9e-f32b-4c0f-9df6-32d4464a4cb2",
    "_uuid": "7ef425f14c048accd98f18f3a5e0974fa9fe8a78"
   },
   "source": [
    "Describe shows a quick statistic summary of your data"
   ]
  },
  {
   "cell_type": "code",
   "execution_count": null,
   "metadata": {
    "_cell_guid": "43393dfd-989c-43a6-834e-550c8d3ccbd4",
    "_uuid": "1f1dbb5dd09ffa4c2ee0c3c289328de4c070ad2b",
    "collapsed": true,
    "ExecuteTime": {
     "start_time": "2023-04-14T13:48:32.574399Z",
     "end_time": "2023-04-14T13:48:35.909707Z"
    }
   },
   "outputs": [],
   "source": [
    "df.describe()"
   ]
  },
  {
   "cell_type": "markdown",
   "metadata": {
    "_cell_guid": "21ba544f-8736-4382-8462-20f02c353328",
    "_uuid": "e5fb874c26019da50f1b68fbea8bcf0e7940809f"
   },
   "source": [
    "Transposing your data"
   ]
  },
  {
   "cell_type": "code",
   "execution_count": null,
   "metadata": {
    "_cell_guid": "13e0e285-eac4-48fc-8a82-23491e8ebaf0",
    "_uuid": "ee5d4078cd8d5a545be55483208e73b9c9e939f4",
    "collapsed": true,
    "ExecuteTime": {
     "start_time": "2023-04-14T13:48:32.614844Z",
     "end_time": "2023-04-14T13:48:35.913934Z"
    }
   },
   "outputs": [],
   "source": [
    "df.T"
   ]
  },
  {
   "cell_type": "markdown",
   "metadata": {
    "_cell_guid": "d92b9eac-9dc6-446e-b87e-d50ef52630a8",
    "_uuid": "b526362d5e5f451a460ca3add042b633538055dc"
   },
   "source": [
    "Sorting by an axis (In this case, sorting the columns in reverse alphabetical order):"
   ]
  },
  {
   "cell_type": "code",
   "execution_count": null,
   "metadata": {
    "_cell_guid": "1dfd42f4-5231-4508-900f-1ddc37cdd250",
    "_uuid": "397ac00b05aa5867ba188f537ae7ac814275352c",
    "collapsed": true,
    "ExecuteTime": {
     "start_time": "2023-04-14T13:48:32.646892Z",
     "end_time": "2023-04-14T13:48:35.930096Z"
    }
   },
   "outputs": [],
   "source": [
    "df.sort_index(axis=1, ascending=False)"
   ]
  },
  {
   "cell_type": "markdown",
   "metadata": {
    "_cell_guid": "9898c02b-57bd-48d6-884f-3fe8eb53b34a",
    "_uuid": "e3c6b93d9352a0660f989b63e09f03e05c9e1feb"
   },
   "source": [
    "Sorting by values"
   ]
  },
  {
   "cell_type": "code",
   "execution_count": null,
   "metadata": {
    "_cell_guid": "389c1344-4f60-4628-b6c1-de736d429d3a",
    "_uuid": "df1ac4e8bc643bbcc49f0769c52778ca19761a9e",
    "collapsed": true,
    "ExecuteTime": {
     "start_time": "2023-04-14T13:48:32.681010Z",
     "end_time": "2023-04-14T13:48:35.934441Z"
    }
   },
   "outputs": [],
   "source": [
    "df.sort_values(by='two')"
   ]
  },
  {
   "cell_type": "markdown",
   "metadata": {
    "_cell_guid": "6e80dc85-7f33-4803-928c-8f327da5c15a",
    "_uuid": "5202ddc8b46f9ce7333977c7dc4c919304fbfd4b"
   },
   "source": [
    "# Selection"
   ]
  },
  {
   "cell_type": "markdown",
   "metadata": {
    "_cell_guid": "cbf1a871-cf24-46ae-8384-72d99f6b3c9a",
    "_uuid": "dd007c4689288bd481c99133d13cb05e204ca1a8"
   },
   "source": [
    "Note While standard Python / Numpy expressions for selecting and setting are intuitive and come in handy for interactive work, for production code, we recommend the optimized pandas data access methods, .at, .iat, .loc, .iloc and .ix.\n",
    "See the indexing documentation [Indexing and Selecting Data](https://pandas.pydata.org/pandas-docs/stable/indexing.html#indexing) and [MultiIndex / Advanced Indexing](https://pandas.pydata.org/pandas-docs/stable/advanced.html#advanced)"
   ]
  },
  {
   "cell_type": "markdown",
   "metadata": {
    "_cell_guid": "002668d8-3da6-4f78-bb84-0c1d3d42c81c",
    "_uuid": "446149fabdb526d11b6d42aa58a7219043a63210"
   },
   "source": [
    "## Getting"
   ]
  },
  {
   "cell_type": "markdown",
   "metadata": {
    "_cell_guid": "04f82f76-6390-4f0e-9a64-67619cc85e42",
    "_uuid": "8f34cc17657fc7f8b77f35c5beefdca76343994e"
   },
   "source": [
    "Selecting a single column, which yields a Series, equivalent to df.one"
   ]
  },
  {
   "cell_type": "code",
   "execution_count": null,
   "metadata": {
    "_cell_guid": "4be8e75e-64f3-453e-b3e5-b788b1c967a5",
    "_uuid": "9bd8927534a077d8d9c3d74747ea6ab3f5070d68",
    "collapsed": true,
    "ExecuteTime": {
     "start_time": "2023-04-14T13:48:32.778616Z",
     "end_time": "2023-04-14T13:48:35.955765Z"
    }
   },
   "outputs": [],
   "source": [
    "df['one']"
   ]
  },
  {
   "cell_type": "code",
   "execution_count": null,
   "metadata": {
    "_cell_guid": "c0092d95-8fd7-4059-8938-580a05c70f6b",
    "_uuid": "9678ff7f4faaffc358ad10bb176d96c7d45ac236",
    "collapsed": true,
    "ExecuteTime": {
     "start_time": "2023-04-14T13:48:32.785000Z",
     "end_time": "2023-04-14T13:48:35.956073Z"
    }
   },
   "outputs": [],
   "source": [
    "df.one"
   ]
  },
  {
   "cell_type": "markdown",
   "metadata": {
    "_cell_guid": "a9160b5a-2a8d-42f7-a1a0-cf59481bbbe5",
    "_uuid": "724ce079707e2d58e3e6ec122a128fb280f85010"
   },
   "source": [
    "Selecting via [], which slices the rows."
   ]
  },
  {
   "cell_type": "code",
   "execution_count": null,
   "metadata": {
    "_cell_guid": "f5909120-c5ee-498a-8ed1-b4316b51226e",
    "_uuid": "dbcd1c56866336f25d10ebfb1dbd457b1c5c415e",
    "collapsed": true,
    "ExecuteTime": {
     "start_time": "2023-04-14T13:48:32.805209Z",
     "end_time": "2023-04-14T13:48:35.975166Z"
    }
   },
   "outputs": [],
   "source": [
    "df[0:3]"
   ]
  },
  {
   "cell_type": "code",
   "execution_count": null,
   "metadata": {
    "_cell_guid": "0b5c50db-08a3-487e-8f9b-3fac98f0c336",
    "_uuid": "1bc96862bd0c4fde57487e71bce38dc272763a36",
    "collapsed": true,
    "ExecuteTime": {
     "start_time": "2023-04-14T13:48:32.814821Z",
     "end_time": "2023-04-14T13:48:35.975466Z"
    }
   },
   "outputs": [],
   "source": [
    "df['20141102':'20141104']"
   ]
  },
  {
   "cell_type": "markdown",
   "metadata": {
    "_cell_guid": "47120656-c870-4ccb-87d6-cdf0cb10628b",
    "_uuid": "50e9f44238b630e0f854dffa849f4a26f2b7abfd"
   },
   "source": [
    "## Selecting by Label"
   ]
  },
  {
   "cell_type": "markdown",
   "metadata": {
    "_cell_guid": "5eb8a10b-100c-4949-bf57-fc1b0b709023",
    "_uuid": "6c5b006e3dabd7dc506fb4c840b003667cdcb019"
   },
   "source": [
    "See more in[ Selection by Label](https://pandas.pydata.org/pandas-docs/stable/indexing.html#indexing-label)\n",
    "\n",
    "For getting a cross section using a label"
   ]
  },
  {
   "cell_type": "code",
   "execution_count": null,
   "metadata": {
    "_cell_guid": "07d52142-94b9-42fb-a649-63f2f56bd3af",
    "_uuid": "34c5205092732b67a2de0667418af4f3e73fa18f",
    "collapsed": true,
    "ExecuteTime": {
     "start_time": "2023-04-14T13:48:32.848380Z",
     "end_time": "2023-04-14T13:48:35.992214Z"
    }
   },
   "outputs": [],
   "source": [
    "df.loc[dates[0]]"
   ]
  },
  {
   "cell_type": "markdown",
   "metadata": {
    "_cell_guid": "6a647eb5-c61b-4a01-a9a9-cc9de6284338",
    "_uuid": "847a4c224d66434bc572cdd3106c99bce8925607"
   },
   "source": [
    "Selecting on a multi-axis by label"
   ]
  },
  {
   "cell_type": "code",
   "execution_count": null,
   "metadata": {
    "_cell_guid": "7001a024-168a-4c7f-bf36-d813fb798bfb",
    "_uuid": "f46aa94ce3199632c14f66aea3f9155fc57c8d3e",
    "collapsed": true,
    "ExecuteTime": {
     "start_time": "2023-04-14T13:48:32.875455Z",
     "end_time": "2023-04-14T13:48:35.996450Z"
    }
   },
   "outputs": [],
   "source": [
    "df.loc[:,['one','two']]"
   ]
  },
  {
   "cell_type": "markdown",
   "metadata": {
    "_cell_guid": "e28a81bd-14eb-4931-a839-98d0ecaecd3c",
    "_uuid": "9a6ae941b46b104db1cd8def0545981d4733bfe9"
   },
   "source": [
    "Showing label slicing, both endpoints are included"
   ]
  },
  {
   "cell_type": "code",
   "execution_count": null,
   "metadata": {
    "_cell_guid": "96ab0649-01d3-48f2-b519-dd78c2186336",
    "_uuid": "e02bd76d6a3169255570d96c2cb84d1d19baafe9",
    "collapsed": true,
    "ExecuteTime": {
     "start_time": "2023-04-14T13:48:32.906300Z",
     "end_time": "2023-04-14T13:48:36.000349Z"
    }
   },
   "outputs": [],
   "source": [
    "df.loc['20141102':'20141104',['one','two']]"
   ]
  },
  {
   "cell_type": "markdown",
   "metadata": {
    "_cell_guid": "1da0f850-8b42-4221-ae51-223924b40266",
    "_uuid": "74e06e2a77ac27d580b88b90068a795052f00e8e"
   },
   "source": [
    "Reduction in the dimensions of the returned object"
   ]
  },
  {
   "cell_type": "code",
   "execution_count": null,
   "metadata": {
    "_cell_guid": "e7b0cb7d-70cc-41f6-8b55-32824b804241",
    "_uuid": "6477a1db5cf42f8260bc8c2cee54c2745fb255a1",
    "collapsed": true,
    "ExecuteTime": {
     "start_time": "2023-04-14T13:48:32.935695Z",
     "end_time": "2023-04-14T13:48:36.004276Z"
    }
   },
   "outputs": [],
   "source": [
    "df.loc['20141102',['one','two']]"
   ]
  },
  {
   "cell_type": "markdown",
   "metadata": {
    "_cell_guid": "3d623580-97fc-456e-924f-5bab3121d87d",
    "_uuid": "9f4dd3322a60f1b105d9a21783287edb27c8ea0c"
   },
   "source": [
    "For getting a scalar value"
   ]
  },
  {
   "cell_type": "code",
   "execution_count": null,
   "metadata": {
    "_cell_guid": "5097b9ad-5170-41d8-857f-97142be556f5",
    "_uuid": "9f1d7120553ca8bb9a6b658c2f04e3bfe67f97a6",
    "collapsed": true,
    "ExecuteTime": {
     "start_time": "2023-04-14T13:48:32.961630Z",
     "end_time": "2023-04-14T13:48:36.042109Z"
    }
   },
   "outputs": [],
   "source": [
    "df.loc[dates[0],'one']"
   ]
  },
  {
   "cell_type": "markdown",
   "metadata": {
    "_cell_guid": "68f229fd-5117-4207-856e-5c6e4b58c135",
    "_uuid": "3586bfb5875d760a36ecf78e62dd0ca38a67b54b"
   },
   "source": [
    "For getting fast access to a scalar (equiv to the prior method)"
   ]
  },
  {
   "cell_type": "code",
   "execution_count": null,
   "metadata": {
    "_cell_guid": "39271947-9c6d-456a-aaf3-307e55d24442",
    "_uuid": "c30b411195fff3849b54bcdc3b658fbcc96cecbb",
    "collapsed": true,
    "ExecuteTime": {
     "start_time": "2023-04-14T13:48:32.989108Z",
     "end_time": "2023-04-14T13:48:36.046260Z"
    }
   },
   "outputs": [],
   "source": [
    "df.at[dates[0],'one']"
   ]
  },
  {
   "cell_type": "markdown",
   "metadata": {
    "_cell_guid": "7dd7fef8-149a-420f-a45b-af912c3f2369",
    "_uuid": "16f6dc5101bf7f1cef79a016c9b557ee910930ad"
   },
   "source": [
    "## Selection by Position"
   ]
  },
  {
   "cell_type": "markdown",
   "metadata": {
    "_cell_guid": "428d1a82-86e1-41d0-a416-52906afc8995",
    "_uuid": "a789524d4da761f0fa9b77b459acf52e8a6291b6"
   },
   "source": [
    "See more in [Selection by Position](Selection by Position)\n",
    "\n",
    "Select via the position of the passed integers"
   ]
  },
  {
   "cell_type": "code",
   "execution_count": null,
   "metadata": {
    "_cell_guid": "fe438107-8d37-4714-8da7-d1c5b3afc846",
    "_uuid": "62558a81897d581168ee6c2b41f76267b9c91124",
    "collapsed": true,
    "ExecuteTime": {
     "start_time": "2023-04-14T13:48:33.035956Z",
     "end_time": "2023-04-14T13:48:36.063059Z"
    }
   },
   "outputs": [],
   "source": [
    "df.iloc[3]"
   ]
  },
  {
   "cell_type": "markdown",
   "metadata": {
    "_cell_guid": "cd04525c-ada2-4260-b5f7-747d4e5df884",
    "_uuid": "4709ff3e512e7d238ed456980113d4934499b5d6"
   },
   "source": [
    "By integer slices, acting similar to numpy/python"
   ]
  },
  {
   "cell_type": "markdown",
   "metadata": {
    "_cell_guid": "728cc20e-ba9d-413d-9ee5-e76eb2735c8a",
    "_uuid": "602b716b2b8d28bede8043ce95f3247233d3b94c"
   },
   "source": [
    "By lists of integer position locations, similar to the numpy/python style"
   ]
  },
  {
   "cell_type": "code",
   "execution_count": null,
   "metadata": {
    "_cell_guid": "0af7f46d-7da7-4b36-bcfd-02a9fdb8dbe5",
    "_uuid": "83f0a59d8beabd0bb6192467ebe9b287a3216776",
    "collapsed": true,
    "ExecuteTime": {
     "start_time": "2023-04-14T13:48:33.082854Z",
     "end_time": "2023-04-14T13:48:36.067076Z"
    }
   },
   "outputs": [],
   "source": [
    "df.iloc[[1,2,4],[0,2]]"
   ]
  },
  {
   "cell_type": "markdown",
   "metadata": {
    "_cell_guid": "e9f6b749-ad67-4d89-aaed-4024b8530936",
    "_uuid": "61639e9a7523b05fb1a03d464ffa1f1eb1688efb"
   },
   "source": [
    "For slicing rows explicitly"
   ]
  },
  {
   "cell_type": "code",
   "execution_count": null,
   "metadata": {
    "_cell_guid": "467719ff-d23e-45c2-9657-0b7bcaff6655",
    "_uuid": "8d69d0090825b1644d037ecb051afdb9633628d3",
    "collapsed": true,
    "ExecuteTime": {
     "start_time": "2023-04-14T13:48:33.115305Z",
     "end_time": "2023-04-14T13:48:36.071594Z"
    }
   },
   "outputs": [],
   "source": [
    "df.iloc[1:3,:]"
   ]
  },
  {
   "cell_type": "markdown",
   "metadata": {
    "_cell_guid": "38c01dfe-f13a-4cef-bfed-b49e77eef480",
    "_uuid": "aa3ccb6ed055424381bdb3e41b97ea2f881d19db"
   },
   "source": [
    "For slicing columns explicitly"
   ]
  },
  {
   "cell_type": "code",
   "execution_count": null,
   "metadata": {
    "_cell_guid": "7a0bdd04-6670-4821-8328-3090827a13ed",
    "_uuid": "c14695bf9699073d68e0aeb63973a58bee51c57c",
    "collapsed": true,
    "ExecuteTime": {
     "start_time": "2023-04-14T13:48:33.146068Z",
     "end_time": "2023-04-14T13:48:36.075727Z"
    }
   },
   "outputs": [],
   "source": [
    "df.iloc[:,1:3]"
   ]
  },
  {
   "cell_type": "markdown",
   "metadata": {
    "_cell_guid": "c7526fcd-5d0f-41c0-946f-726fadd3d8cf",
    "_uuid": "728d45f365a6e58c4fe60caaec27170c956b47e5"
   },
   "source": [
    "For getting a value explicitly"
   ]
  },
  {
   "cell_type": "code",
   "execution_count": null,
   "metadata": {
    "_cell_guid": "32c6bb98-903a-45b1-b430-08d1b898e813",
    "_uuid": "8c824f1f3d44d8ed41b7b1328354863861ee9ef2",
    "collapsed": true,
    "ExecuteTime": {
     "start_time": "2023-04-14T13:48:33.173907Z",
     "end_time": "2023-04-14T13:48:36.091993Z"
    }
   },
   "outputs": [],
   "source": [
    "df.iloc[1,1]"
   ]
  },
  {
   "cell_type": "markdown",
   "metadata": {
    "_cell_guid": "24a9bd7b-8362-4722-8aa2-0c2484163586",
    "_uuid": "9cc662005289530c6cf43b87dabd314a313ffde1"
   },
   "source": [
    "For getting fast access to a scalar (equiv to the prior method)"
   ]
  },
  {
   "cell_type": "code",
   "execution_count": null,
   "metadata": {
    "_cell_guid": "2080b00d-b540-4bba-b8bc-682b80356290",
    "_uuid": "dfedfb75ff53703c78c0558f2822b01a0b8af49e",
    "collapsed": true,
    "ExecuteTime": {
     "start_time": "2023-04-14T13:48:33.200195Z",
     "end_time": "2023-04-14T13:48:36.096076Z"
    }
   },
   "outputs": [],
   "source": [
    "df.iat[0,0]"
   ]
  },
  {
   "cell_type": "markdown",
   "metadata": {
    "_cell_guid": "4205069b-9b81-4015-8113-80e5997ed02a",
    "_uuid": "1f65376861105ccf80d8230b7518ec631e869383"
   },
   "source": [
    "## Boolean Indexing\n",
    "Using a single column’s values to select data."
   ]
  },
  {
   "cell_type": "code",
   "execution_count": null,
   "metadata": {
    "_cell_guid": "b7d6f231-8fca-4b94-b4da-7e1077bfc1c6",
    "_uuid": "0897ab764824072dc3d6d45bc03c70f1f29c6833",
    "collapsed": true,
    "ExecuteTime": {
     "start_time": "2023-04-14T13:48:33.229233Z",
     "end_time": "2023-04-14T13:48:36.112682Z"
    }
   },
   "outputs": [],
   "source": [
    "df[df.one > 0.5]"
   ]
  },
  {
   "cell_type": "markdown",
   "metadata": {
    "_cell_guid": "001075c2-f7be-4218-9683-ffa1f5d9240e",
    "_uuid": "4b70f057a80db995d082b8d30c54ba603fe2cb62"
   },
   "source": [
    "Selecting values from a DataFrame where a boolean condition is met."
   ]
  },
  {
   "cell_type": "code",
   "execution_count": null,
   "metadata": {
    "_cell_guid": "01955ea3-17c6-4b0d-8d2e-cc5d654bb6cf",
    "_uuid": "8a6a6d699089df278c1436c28b9ff50c18e424ec",
    "collapsed": true,
    "ExecuteTime": {
     "start_time": "2023-04-14T13:48:33.267348Z",
     "end_time": "2023-04-14T13:48:36.116980Z"
    }
   },
   "outputs": [],
   "source": [
    "df[df>0]"
   ]
  },
  {
   "cell_type": "markdown",
   "metadata": {
    "_cell_guid": "0d9b0104-071e-4b67-a28c-af0a3b5298c5",
    "_uuid": "152e38c5f8c9b1623f719b3d733d4a7dd83d37bd"
   },
   "source": [
    "Using the isin method for filtering:"
   ]
  },
  {
   "cell_type": "code",
   "execution_count": null,
   "metadata": {
    "_cell_guid": "81efdb26-8d6d-4d30-8095-0212e2068bd7",
    "_uuid": "ac6deb8efac6fea270befc2c5a444825de86a270",
    "collapsed": true,
    "ExecuteTime": {
     "start_time": "2023-04-14T13:48:33.301772Z",
     "end_time": "2023-04-14T13:48:36.125606Z"
    }
   },
   "outputs": [],
   "source": [
    "df2 = df.copy()\n",
    "df2['five'] = ['one', 'one','two','three','four','three']\n",
    "df2"
   ]
  },
  {
   "cell_type": "code",
   "execution_count": null,
   "metadata": {
    "_cell_guid": "b8a6507a-ab97-4884-ad6b-86ce08b562b1",
    "_uuid": "1057b0c34eae282d8b234583497a6e9d53a254f5",
    "collapsed": true,
    "ExecuteTime": {
     "start_time": "2023-04-14T13:48:33.314510Z",
     "end_time": "2023-04-14T13:48:36.125898Z"
    }
   },
   "outputs": [],
   "source": [
    "df2[df2['five'].isin(['two','four'])]"
   ]
  },
  {
   "cell_type": "markdown",
   "metadata": {
    "_cell_guid": "b6eff184-f774-4668-a5fa-2eb792a8ee19",
    "_uuid": "36dc62173e385467dca8e0b12398ce00cd3bc7c9"
   },
   "source": [
    "## Setting\n",
    "Setting a new column automatically aligns the data by the indexes"
   ]
  },
  {
   "cell_type": "code",
   "execution_count": null,
   "metadata": {
    "_cell_guid": "4d61f140-af66-4b4c-9296-17e243bf4991",
    "_uuid": "c0f9338b687ee3fb7b535f772955de1cb232e10e",
    "collapsed": true,
    "ExecuteTime": {
     "start_time": "2023-04-14T13:48:33.327009Z",
     "end_time": "2023-04-14T13:48:36.147030Z"
    }
   },
   "outputs": [],
   "source": [
    "s1 = pd.Series([1,2,3,4,5,6], index=pd.date_range('20141101', periods=6))\n",
    "s1"
   ]
  },
  {
   "cell_type": "code",
   "execution_count": null,
   "metadata": {
    "_cell_guid": "ef2e599f-68db-48c8-b750-e8f5143fe407",
    "_uuid": "6f01ca50121e0d9289c675ea6de02a716ae66dfb",
    "collapsed": true,
    "ExecuteTime": {
     "start_time": "2023-04-14T13:48:33.339185Z",
     "end_time": "2023-04-14T13:48:36.147327Z"
    }
   },
   "outputs": [],
   "source": [
    "df['six'] = s1\n",
    "df"
   ]
  },
  {
   "cell_type": "markdown",
   "metadata": {
    "_cell_guid": "360096be-309b-4cc7-8ecb-d23721cb14a2",
    "_uuid": "ae8946ddaffc0e88adab4a082e2ffd2252700078"
   },
   "source": [
    "Setting values by label:"
   ]
  },
  {
   "cell_type": "code",
   "execution_count": null,
   "metadata": {
    "_cell_guid": "a3acd34a-8443-4d9a-83e7-8b98dc75ba63",
    "_uuid": "190aff49aae8c1396239b406e9909e62de82c0b3",
    "collapsed": true,
    "ExecuteTime": {
     "start_time": "2023-04-14T13:48:33.358840Z",
     "end_time": "2023-04-14T13:48:36.163527Z"
    }
   },
   "outputs": [],
   "source": [
    "df.at[dates[0],'one'] = 0\n",
    "df"
   ]
  },
  {
   "cell_type": "markdown",
   "metadata": {
    "_cell_guid": "0da27b58-8d50-424c-85a5-a13606a93e8a",
    "_uuid": "2b4a495f12e347c3d5b6db4951766e7390dc516f"
   },
   "source": [
    "Setting values by position:"
   ]
  },
  {
   "cell_type": "code",
   "execution_count": null,
   "metadata": {
    "_cell_guid": "a6891c06-b41e-440a-a15e-8e80bedef5fe",
    "_uuid": "1500650883a2caeaf0d0cb3c1895bb305fa58eb7",
    "collapsed": true,
    "ExecuteTime": {
     "start_time": "2023-04-14T13:48:33.391748Z",
     "end_time": "2023-04-14T13:48:36.171787Z"
    }
   },
   "outputs": [],
   "source": [
    "df.iat[0,1] = 0\n",
    "df"
   ]
  },
  {
   "cell_type": "code",
   "execution_count": null,
   "metadata": {
    "_cell_guid": "1e8225cf-4459-4cb4-98ef-a32d09c382e2",
    "_uuid": "6993b6c151f135cc7a965730c4c572775cbd8a01",
    "collapsed": true,
    "ExecuteTime": {
     "start_time": "2023-04-14T13:48:33.402525Z",
     "end_time": "2023-04-14T13:48:36.172113Z"
    }
   },
   "outputs": [],
   "source": [
    "df.loc[:,'four'] = np.array([5] * len(df))\n",
    "df"
   ]
  },
  {
   "cell_type": "markdown",
   "metadata": {
    "_cell_guid": "5ac1ed59-30d2-41c3-883c-bb96634f4830",
    "_uuid": "1f0389c283d54453415ca78a3eafc8d127ba2893"
   },
   "source": [
    "A where operation with setting."
   ]
  },
  {
   "cell_type": "code",
   "execution_count": null,
   "metadata": {
    "_cell_guid": "7108c375-08f9-4402-9f39-7e68f3ac929f",
    "_uuid": "783d37539e38075c324ebd1c29689211afb66a03",
    "collapsed": true,
    "ExecuteTime": {
     "start_time": "2023-04-14T13:48:33.424902Z",
     "end_time": "2023-04-14T13:48:36.176789Z"
    }
   },
   "outputs": [],
   "source": [
    "df2 = df.copy()\n",
    "df2[df2 > 0] = -df2\n",
    "df2"
   ]
  },
  {
   "cell_type": "markdown",
   "metadata": {
    "_cell_guid": "4bab0a44-3ea1-4817-ae0e-233d159e74e5",
    "_uuid": "5481ab3311350209e065b43c612af4b85bee6a1d",
    "collapsed": true
   },
   "source": [
    "## Missing Data\n",
    "pandas primarily uses the value np.nan to represent missing data. It is by default not included in computations. See the [Missing Data section](https://pandas.pydata.org/pandas-docs/stable/missing_data.html#missing-data)\n",
    "\n",
    "Reindexing allows you to change/add/delete the index on a specified axis. This returns a copy of the data."
   ]
  },
  {
   "cell_type": "code",
   "execution_count": null,
   "metadata": {
    "_cell_guid": "8ea992cf-a44c-48ba-8c29-772a76a62e25",
    "_uuid": "b34287e42a0e574b9ada0dd0660e7610bde2a4a2",
    "collapsed": true,
    "ExecuteTime": {
     "start_time": "2023-04-14T13:48:33.457597Z",
     "end_time": "2023-04-14T13:48:36.195527Z"
    }
   },
   "outputs": [],
   "source": [
    "df1 = df.reindex(index=dates[0:4], columns=list(df.columns) + ['E'])\n",
    "df1.loc[dates[0]:dates[1],'E'] = 1\n",
    "df1"
   ]
  },
  {
   "cell_type": "markdown",
   "metadata": {
    "_cell_guid": "7e0319e8-fc11-4556-a0e6-4bc520b2179f",
    "_uuid": "46eaf209fd3122be95d2ef0804dc8bd665794205"
   },
   "source": [
    "To drop any rows that have missing data:"
   ]
  },
  {
   "cell_type": "code",
   "execution_count": null,
   "metadata": {
    "_cell_guid": "9c118c95-34b0-4a03-9ae6-4a4e2fb3ab52",
    "_uuid": "be778687edde438a54f9378d59f532c9fe9d87da",
    "collapsed": true,
    "ExecuteTime": {
     "start_time": "2023-04-14T13:48:33.489386Z",
     "end_time": "2023-04-14T13:48:36.200391Z"
    }
   },
   "outputs": [],
   "source": [
    "df1.dropna(how='any')"
   ]
  },
  {
   "cell_type": "markdown",
   "metadata": {
    "_cell_guid": "b833f8bd-684d-42d6-babb-6a2d02257757",
    "_uuid": "8a107a35dfb6b1f888a3760b1ddc1a2fc8ef1eae"
   },
   "source": [
    "Filling missing data:"
   ]
  },
  {
   "cell_type": "code",
   "execution_count": null,
   "metadata": {
    "_cell_guid": "f2521f7e-c916-4de2-abb5-c9c5ebebc600",
    "_uuid": "a5089cfe6c94a390800d4ebc997f143f5c000e8e",
    "collapsed": true,
    "ExecuteTime": {
     "start_time": "2023-04-14T13:48:33.519727Z",
     "end_time": "2023-04-14T13:48:36.218595Z"
    }
   },
   "outputs": [],
   "source": [
    "df1.fillna(value=5)"
   ]
  },
  {
   "cell_type": "markdown",
   "metadata": {
    "_cell_guid": "02f262f9-27dd-4e4e-9c6d-030c23123e90",
    "_uuid": "3f1f384adbd5d3081028c45a797f6ab1f0174490"
   },
   "source": [
    "## Operations\n",
    "See the [Basic section on Binary Ops](https://pandas.pydata.org/pandas-docs/stable/basics.html#basics-binop)"
   ]
  },
  {
   "cell_type": "markdown",
   "metadata": {
    "_cell_guid": "a599044b-97a5-4ff1-ac07-d2205c9bd275",
    "_uuid": "7dd84063efa95105e26e900a85b3b593c5f79406"
   },
   "source": [
    "### Stats\n",
    "Operations in general *exclude* missing data.\n",
    "\n",
    "Performing a descriptive statistic:"
   ]
  },
  {
   "cell_type": "code",
   "execution_count": null,
   "metadata": {
    "_cell_guid": "873b0539-d75a-4d8f-81e2-42c1ee70f945",
    "_uuid": "18a53af2b3fcb793e6c52ddfabc3bf4b01edc3ae",
    "collapsed": true,
    "ExecuteTime": {
     "start_time": "2023-04-14T13:48:33.568050Z",
     "end_time": "2023-04-14T13:48:36.223846Z"
    }
   },
   "outputs": [],
   "source": [
    "df.mean()"
   ]
  },
  {
   "cell_type": "markdown",
   "metadata": {
    "_cell_guid": "20530588-c864-428f-aad0-4ad48a3df1e5",
    "_uuid": "f066371c33bd242c801bb35fb61caed24cff26f6"
   },
   "source": [
    "Same operation on the other axis:"
   ]
  },
  {
   "cell_type": "code",
   "execution_count": null,
   "metadata": {
    "_cell_guid": "88cdbfa8-728c-4803-a400-5b348828e03e",
    "_uuid": "25a698388c134cb27fc648f76ecef27c12471fce",
    "collapsed": true,
    "ExecuteTime": {
     "start_time": "2023-04-14T13:48:33.595286Z",
     "end_time": "2023-04-14T13:48:36.229432Z"
    }
   },
   "outputs": [],
   "source": [
    "df.mean(1)"
   ]
  },
  {
   "cell_type": "markdown",
   "metadata": {
    "_cell_guid": "1fffe4d6-a49d-42e5-8b89-e44724ad03db",
    "_uuid": "a10e0ecc601023ea17c043b422ae7774a718e97e"
   },
   "source": [
    "Operating with objects that have different dimensionality and need alignment. In addition, pandas automatically broadcasts along the specified dimension. The following code also shifts the data vertically, leaving NaN values in the unoccupied spaces"
   ]
  },
  {
   "cell_type": "code",
   "execution_count": null,
   "metadata": {
    "_cell_guid": "e461e77a-cc2d-4186-9a6f-00f7b898328d",
    "_uuid": "7eda48639b578d0a9fb2e6e3a3f4ba76fbde780c",
    "collapsed": true,
    "ExecuteTime": {
     "start_time": "2023-04-14T13:48:33.622384Z",
     "end_time": "2023-04-14T13:48:36.251950Z"
    }
   },
   "outputs": [],
   "source": [
    "s = pd.Series([1,3,5,np.nan,6,8], index=dates).shift(2)\n",
    "s"
   ]
  },
  {
   "cell_type": "code",
   "execution_count": null,
   "metadata": {
    "_cell_guid": "950ca30f-af5b-4184-9556-f98187afe6d5",
    "_uuid": "b88c2ac00262f1176bc919dc4bfa9e37bafa3d07",
    "collapsed": true,
    "ExecuteTime": {
     "start_time": "2023-04-14T13:48:33.633129Z",
     "end_time": "2023-04-14T13:48:36.252326Z"
    }
   },
   "outputs": [],
   "source": [
    "df.sub(s, axis='index')"
   ]
  },
  {
   "cell_type": "markdown",
   "metadata": {
    "_cell_guid": "8a609a42-405f-4145-a258-2b2a1a836fa6",
    "_uuid": "a82c28ab38951a030fc5aaffc9229091af226cf8"
   },
   "source": [
    "### Apply\n",
    "Applying functions to the data"
   ]
  },
  {
   "cell_type": "code",
   "execution_count": null,
   "metadata": {
    "_cell_guid": "ed25e76b-00c8-4f75-b8f2-a6b2669e264f",
    "_uuid": "0fdf92e9b753e997301f3d7c9e88941f87e086b1",
    "collapsed": true,
    "ExecuteTime": {
     "start_time": "2023-04-14T13:48:33.650334Z",
     "end_time": "2023-04-14T13:48:36.257243Z"
    }
   },
   "outputs": [],
   "source": [
    "df.apply(np.cumsum)"
   ]
  },
  {
   "cell_type": "markdown",
   "metadata": {
    "_cell_guid": "c29ce7af-9539-4857-9f41-0453d788992f",
    "_uuid": "f016b295830e32f680784dbe2f41b568215d9efb"
   },
   "source": [
    "### Histogramming \n",
    "See more at [Histogramming and Discretization](https://pandas.pydata.org/pandas-docs/stable/basics.html#basics-discretization)"
   ]
  },
  {
   "cell_type": "code",
   "execution_count": null,
   "metadata": {
    "_cell_guid": "765ec7fe-83b0-4180-acdc-540a28422a85",
    "_uuid": "8cc61eeda690d11eefecf2116e28136020ca0003",
    "collapsed": true,
    "ExecuteTime": {
     "start_time": "2023-04-14T13:48:33.676394Z",
     "end_time": "2023-04-14T13:48:36.279587Z"
    }
   },
   "outputs": [],
   "source": [
    "s = pd.Series(np.random.randint(0, 7, size=10))\n",
    "s"
   ]
  },
  {
   "cell_type": "code",
   "execution_count": null,
   "metadata": {
    "_cell_guid": "cd3bda59-12a7-434c-9195-23c4dcba5b8b",
    "_uuid": "77963d7b3d63b8e939652cc2c114a0731baa359e",
    "collapsed": true,
    "ExecuteTime": {
     "start_time": "2023-04-14T13:48:33.682738Z",
     "end_time": "2023-04-14T13:48:36.280009Z"
    }
   },
   "outputs": [],
   "source": [
    "s.value_counts()"
   ]
  },
  {
   "cell_type": "markdown",
   "metadata": {
    "_cell_guid": "cb8c8038-acc7-4b09-8e70-3354521439e6",
    "_uuid": "e74ee3f403a6358e6658dcfae2f2909128d64130"
   },
   "source": [
    "### String Methods\n",
    "Series is equipped with a set of string processing methods in the str attribute that make it easy to operate on each element of the array, as in the code snippet below. Note that pattern-matching in str generally uses [regular expressions](https://docs.python.org/2/library/re.html) by default (and in some cases always uses them). See more at [Vectorized String Methods](https://pandas.pydata.org/pandas-docs/stable/text.html#text-string-methods)."
   ]
  },
  {
   "cell_type": "code",
   "execution_count": null,
   "metadata": {
    "_cell_guid": "d6eb8ddf-f32a-406d-8d9e-bd0c0a76bdc9",
    "_uuid": "b74596be6dc4925c11bbc9552f52e0ab8a401b19",
    "collapsed": true,
    "ExecuteTime": {
     "start_time": "2023-04-14T13:48:33.700558Z",
     "end_time": "2023-04-14T13:48:36.302364Z"
    }
   },
   "outputs": [],
   "source": [
    "s = pd.Series(['A', 'B', 'C', 'Aaba', 'Baca', np.nan, 'CABA', 'dog', 'cat'])\n"
   ]
  },
  {
   "cell_type": "code",
   "execution_count": null,
   "metadata": {
    "_cell_guid": "ea018f68-1d1e-487a-9d8d-e985f2c1d08f",
    "_uuid": "fb5a35db50d449608f76c79aaacf3c27f79ac398",
    "collapsed": true,
    "ExecuteTime": {
     "start_time": "2023-04-14T13:48:33.706414Z",
     "end_time": "2023-04-14T13:48:36.302807Z"
    }
   },
   "outputs": [],
   "source": [
    "s.str.lower()"
   ]
  },
  {
   "cell_type": "markdown",
   "metadata": {
    "_cell_guid": "bbeb9a06-d07c-4d38-96f6-fd96f8109a36",
    "_uuid": "9ecce4d43cdb73c250c231bd1f6ced47238ee848"
   },
   "source": [
    "# Merge\n",
    "### Concat\n",
    "pandas provides various facilities for easily combining together Series, DataFrame, and Panel objects with various kinds of set logic for the indexes and relational algebra functionality in the case of join / merge-type operations.\n",
    "\n",
    "See the [Merging section](https://pandas.pydata.org/pandas-docs/stable/merging.html#merging)\n",
    "\n",
    "Concatenating pandas objects together with [concat()](https://pandas.pydata.org/pandas-docs/stable/generated/pandas.concat.html#pandas.concat):"
   ]
  },
  {
   "cell_type": "code",
   "execution_count": null,
   "metadata": {
    "_cell_guid": "35b5371c-d03f-4014-b43e-0ea171cc2af5",
    "_uuid": "0e198af891bd5bd91c825d3e3f825211106140a6",
    "collapsed": true,
    "ExecuteTime": {
     "start_time": "2023-04-14T13:48:33.731147Z",
     "end_time": "2023-04-14T13:48:36.316023Z"
    }
   },
   "outputs": [],
   "source": [
    "df = pd.DataFrame(np.random.randn(10, 4))\n",
    "df"
   ]
  },
  {
   "cell_type": "code",
   "execution_count": null,
   "metadata": {
    "_cell_guid": "295ac685-5727-4a04-b910-34810572e984",
    "_uuid": "e1b0e0b7a541f0347586622dbd355ca42b7778cd",
    "collapsed": true,
    "ExecuteTime": {
     "start_time": "2023-04-14T13:48:33.740996Z",
     "end_time": "2023-04-14T13:48:36.316424Z"
    }
   },
   "outputs": [],
   "source": [
    "#break it into pieces:\n",
    "pieces = [df[:3], df[3:7], df[7:]]\n",
    "pieces"
   ]
  },
  {
   "cell_type": "code",
   "execution_count": null,
   "metadata": {
    "_cell_guid": "aa28f68e-a314-4bbe-a71b-568238c3be23",
    "_uuid": "ec51477795c9b3f0bd0366d130175b226cc9232b",
    "collapsed": true,
    "ExecuteTime": {
     "start_time": "2023-04-14T13:48:33.744672Z",
     "end_time": "2023-04-14T13:48:36.316708Z"
    }
   },
   "outputs": [],
   "source": [
    "pd.concat(pieces)\n"
   ]
  },
  {
   "cell_type": "markdown",
   "metadata": {
    "_cell_guid": "62030eae-f3ff-4d73-816b-a7c9b16d557d",
    "_uuid": "bd71a71d0715857037ccb116bec2084ac65f0a17"
   },
   "source": [
    "### Join"
   ]
  },
  {
   "cell_type": "markdown",
   "metadata": {
    "_cell_guid": "1fc997a6-5359-4fcd-bd1a-b0348f71b819",
    "_uuid": "2e5ea2b06b8349ad6e39af887988652edb8fbb73"
   },
   "source": [
    "SQL style merges. See the [Database style joining](https://pandas.pydata.org/pandas-docs/stable/merging.html#merging-join)"
   ]
  },
  {
   "cell_type": "code",
   "execution_count": null,
   "metadata": {
    "_cell_guid": "e4564981-808b-4154-8e35-6e94c2883821",
    "_uuid": "ae963f9acd041abc13954a8b57425a162550106f",
    "collapsed": true,
    "ExecuteTime": {
     "start_time": "2023-04-14T13:48:33.776377Z",
     "end_time": "2023-04-14T13:48:36.357504Z"
    }
   },
   "outputs": [],
   "source": [
    "left = pd.DataFrame({'key': ['foo', 'foo'], 'lval': [1, 2]})\n",
    "left"
   ]
  },
  {
   "cell_type": "code",
   "execution_count": null,
   "metadata": {
    "_cell_guid": "4fc7aac1-cf73-4026-9f1a-765b5a8177b3",
    "_uuid": "4c66f190e7c6b22d22629bba2da2b253ebc0258d",
    "collapsed": true,
    "ExecuteTime": {
     "start_time": "2023-04-14T13:48:33.784297Z",
     "end_time": "2023-04-14T13:48:36.357876Z"
    }
   },
   "outputs": [],
   "source": [
    "right = pd.DataFrame({'key': ['foo', 'foo'], 'rval': [4, 5]})\n",
    "right"
   ]
  },
  {
   "cell_type": "code",
   "execution_count": null,
   "metadata": {
    "_cell_guid": "d5208a6c-f5d4-4e03-9ae0-bbfb8c119e36",
    "_uuid": "72654ecbb57e52b793ee3be15f82cade614c6158",
    "collapsed": true,
    "ExecuteTime": {
     "start_time": "2023-04-14T13:48:33.797759Z",
     "end_time": "2023-04-14T13:48:36.385529Z"
    }
   },
   "outputs": [],
   "source": [
    "pd.merge(left,right,on='key')"
   ]
  },
  {
   "cell_type": "markdown",
   "metadata": {
    "_cell_guid": "1bac3a7a-793c-4af0-a6a4-7a52ee72058d",
    "_uuid": "c1d886d9d9ebee002af9f789a1b7acf9ede81959"
   },
   "source": [
    "Another example that can be given is:"
   ]
  },
  {
   "cell_type": "code",
   "execution_count": null,
   "metadata": {
    "_cell_guid": "ec2e4826-c7f0-44e1-90aa-cd981d8deb4f",
    "_uuid": "bc2f4621a6c78f60b886b35ec9a6aceaf4f7f1a6",
    "collapsed": true,
    "ExecuteTime": {
     "start_time": "2023-04-14T13:48:33.806489Z",
     "end_time": "2023-04-14T13:48:36.385877Z"
    }
   },
   "outputs": [],
   "source": [
    "left = pd.DataFrame({'key': ['foo', 'bar'], 'lval': [1, 2]})\n",
    "left"
   ]
  },
  {
   "cell_type": "code",
   "execution_count": null,
   "metadata": {
    "_cell_guid": "e5c24cf6-23e1-4949-9fee-bdedd1ad4130",
    "_uuid": "337fd14edbbaeedb42b598f0a185e235f71d673a",
    "collapsed": true,
    "ExecuteTime": {
     "start_time": "2023-04-14T13:48:33.814096Z",
     "end_time": "2023-04-14T13:48:36.386143Z"
    }
   },
   "outputs": [],
   "source": [
    "right = pd.DataFrame({'key': ['foo', 'bar'], 'rval': [4, 5]})\n",
    "right"
   ]
  },
  {
   "cell_type": "code",
   "execution_count": null,
   "metadata": {
    "_cell_guid": "475c1acd-7405-4994-a861-28c7a8416b54",
    "_uuid": "acdb46712ef690150987d134784361bbc32eb90b",
    "collapsed": true,
    "ExecuteTime": {
     "start_time": "2023-04-14T13:48:33.824270Z",
     "end_time": "2023-04-14T13:48:36.411113Z"
    }
   },
   "outputs": [],
   "source": [
    "pd.merge(left, right, on='key')"
   ]
  },
  {
   "cell_type": "markdown",
   "metadata": {
    "_cell_guid": "dae9ef46-214d-48e2-ba5c-7e8191f33320",
    "_uuid": "52dfbaeb0fc5416d2e15972f3f544b689f32b701"
   },
   "source": [
    "### Append\n",
    "Append rows to a dataframe. See the [Appending](https://pandas.pydata.org/pandas-docs/stable/merging.html#merging-concatenation)"
   ]
  },
  {
   "cell_type": "code",
   "execution_count": null,
   "metadata": {
    "_cell_guid": "df5cdd4b-3313-4a96-82cc-873ad0c67565",
    "_uuid": "4475724eba1b82530cfd5c7d32d46f4d3c2be1a5",
    "collapsed": true,
    "ExecuteTime": {
     "start_time": "2023-04-14T13:48:33.834085Z",
     "end_time": "2023-04-14T13:48:36.411427Z"
    }
   },
   "outputs": [],
   "source": [
    "df = pd.DataFrame(np.random.randn(8, 4), columns=['A','B','C','D'])\n",
    "df"
   ]
  },
  {
   "cell_type": "code",
   "execution_count": null,
   "metadata": {
    "_cell_guid": "b15aafac-1acf-4dff-87fc-3e43b9e0ae68",
    "_uuid": "963ccfe458e2b84996e688c787dc9daf00ddfa2f",
    "collapsed": true,
    "ExecuteTime": {
     "start_time": "2023-04-14T13:48:33.837444Z",
     "end_time": "2023-04-14T13:48:36.411685Z"
    }
   },
   "outputs": [],
   "source": [
    "s = df.iloc[3]\n",
    "s"
   ]
  },
  {
   "cell_type": "code",
   "execution_count": null,
   "metadata": {
    "_cell_guid": "8e8e9c59-b72f-423a-888b-adb66ff31f0d",
    "_uuid": "5de0b99314a3e8b7d347050a5d09f729dd54ed52",
    "collapsed": true
   },
   "outputs": [],
   "source": [
    "df.append(s,ignore_index=True)"
   ]
  },
  {
   "cell_type": "markdown",
   "metadata": {
    "_cell_guid": "dbf8666d-7af7-4fd0-b40a-5dd3a93cc0cb",
    "_uuid": "9f29392de68aceec0cadc01ccdfc2c124e6821f2"
   },
   "source": [
    "# Grouping\n",
    "By “group by” we are referring to a process involving one or more of the following steps\n",
    "\n",
    "Splitting the data into groups based on some criteria\n",
    "Applying a function to each group independently\n",
    "Combining the results into a data structure\n",
    "\n",
    "See the [Grouping section](https://pandas.pydata.org/pandas-docs/stable/groupby.html#groupby)"
   ]
  },
  {
   "cell_type": "code",
   "execution_count": null,
   "metadata": {
    "_cell_guid": "23331b94-daca-4454-9f8c-f442169e5062",
    "_uuid": "4934d8285f1ed9fc748cb571d8bf212d6f4880ed",
    "collapsed": true,
    "ExecuteTime": {
     "start_time": "2023-04-14T13:54:37.832717Z",
     "end_time": "2023-04-14T13:54:37.875152Z"
    }
   },
   "outputs": [],
   "source": [
    "df = pd.DataFrame({'A' : ['foo', 'bar', 'foo', 'bar',\n",
    "....:                           'foo', 'bar', 'foo', 'foo'],\n",
    "....:                    'B' : ['one', 'one', 'two', 'three',\n",
    "....:                           'two', 'two', 'one', 'three'],\n",
    "....:                    'C' : np.random.randn(8),\n",
    "....:                    'D' : np.random.randn(8)})\n",
    "df"
   ]
  },
  {
   "cell_type": "markdown",
   "metadata": {
    "_cell_guid": "6ba9b996-c9dc-4ea0-901b-32ee9251529c",
    "_uuid": "c58620f714db8772c05d14a5945c69db2e2f8e62"
   },
   "source": [
    "Grouping and then applying a function sum to the resulting groups."
   ]
  },
  {
   "cell_type": "code",
   "execution_count": null,
   "metadata": {
    "_cell_guid": "ea8abe75-1945-402c-9a22-7d19393853ba",
    "_uuid": "98178d2cec0567107285d68e1dcb9aa411b74ad4",
    "collapsed": true,
    "ExecuteTime": {
     "start_time": "2023-04-14T13:54:40.916177Z",
     "end_time": "2023-04-14T13:54:40.979440Z"
    }
   },
   "outputs": [],
   "source": [
    "df.groupby('A').sum()"
   ]
  },
  {
   "cell_type": "markdown",
   "metadata": {
    "_cell_guid": "8d5181e7-9196-4575-979a-5167e1347f99",
    "_uuid": "4e11d0fa50d0c5f4ba267e7f13af361eb78715fa"
   },
   "source": [
    "Grouping by multiple columns forms a hierarchical index, which we then apply the function."
   ]
  },
  {
   "cell_type": "code",
   "execution_count": null,
   "metadata": {
    "_cell_guid": "d4fd100b-cd69-4f81-afae-f1930e1d66c2",
    "_uuid": "f66bb1fb16b537febc7839743a177a222f4946e5",
    "collapsed": true,
    "ExecuteTime": {
     "start_time": "2023-04-14T13:54:51.438463Z",
     "end_time": "2023-04-14T13:54:51.489907Z"
    }
   },
   "outputs": [],
   "source": [
    "df.groupby(['A','B']).sum()"
   ]
  },
  {
   "cell_type": "markdown",
   "metadata": {
    "_cell_guid": "d0c596d2-7b4a-4b22-80c9-fad65f090aba",
    "_uuid": "15911cf2e4cddee344569d63d9ed362efca7f919"
   },
   "source": [
    "# Reshaping\n",
    "See the sections on [Hierarchical Indexing](https://pandas.pydata.org/pandas-docs/stable/advanced.html#advanced-hierarchical) and [Reshaping](https://pandas.pydata.org/pandas-docs/stable/reshaping.html#reshaping-stacking).\n",
    "\n",
    "### Stack"
   ]
  },
  {
   "cell_type": "code",
   "execution_count": null,
   "metadata": {
    "_cell_guid": "266aea3e-433a-436a-83df-08551438f6df",
    "_uuid": "5d1deec928f77a06ad5d090b9a72c04168cda5c2",
    "collapsed": true,
    "ExecuteTime": {
     "start_time": "2023-04-14T13:54:56.400021Z",
     "end_time": "2023-04-14T13:54:56.450420Z"
    }
   },
   "outputs": [],
   "source": [
    "tuples = list(zip(*[['bar', 'bar', 'baz', 'baz',\n",
    "                     ....:                      'foo', 'foo', 'qux', 'qux'],\n",
    "....:                     ['one', 'two', 'one', 'two',\n",
    "....:                      'one', 'two', 'one', 'two']]))\n",
    "tuples"
   ]
  },
  {
   "cell_type": "code",
   "execution_count": null,
   "metadata": {
    "_cell_guid": "084d1096-800c-4bc4-aa44-cea9599a65dd",
    "_uuid": "4568a8525a65f30a40a3c6cbae4b8c53eb403b97",
    "collapsed": true,
    "ExecuteTime": {
     "start_time": "2023-04-14T13:54:57.297271Z",
     "end_time": "2023-04-14T13:54:57.339982Z"
    }
   },
   "outputs": [],
   "source": [
    "index = pd.MultiIndex.from_tuples(tuples, names=['first', 'second'])\n",
    "index"
   ]
  },
  {
   "cell_type": "code",
   "execution_count": null,
   "metadata": {
    "_cell_guid": "0764158a-666f-46d9-a981-c97df7b39b34",
    "_uuid": "a05b99f0ea1fa20c13aaad0e738045f14c97e8fb",
    "collapsed": true,
    "ExecuteTime": {
     "start_time": "2023-04-14T13:54:58.314687Z",
     "end_time": "2023-04-14T13:54:58.354239Z"
    }
   },
   "outputs": [],
   "source": [
    "df = pd.DataFrame(np.random.randn(8, 2), index=index, columns=['A', 'B'])\n",
    "df"
   ]
  },
  {
   "cell_type": "markdown",
   "metadata": {
    "_cell_guid": "35cca8ca-6aed-4f7e-9d52-14f5ec8e4e42",
    "_uuid": "3987868916766e10a30f5bdc3d1759ae29aec4b0"
   },
   "source": [
    "The [stack()](https://pandas.pydata.org/pandas-docs/stable/generated/pandas.DataFrame.stack.html#pandas.DataFrame.stack) method “compresses” a level in the DataFrame’s columns."
   ]
  },
  {
   "cell_type": "code",
   "execution_count": null,
   "metadata": {
    "_cell_guid": "ba300ff7-e5a1-4169-9b00-6c5a13e4d557",
    "_uuid": "a05087c82e0941531337c2166c6027ce8b8e9624",
    "collapsed": true,
    "ExecuteTime": {
     "start_time": "2023-04-14T13:55:00.446987Z",
     "end_time": "2023-04-14T13:55:00.494279Z"
    }
   },
   "outputs": [],
   "source": [
    "stacked = df.stack()\n",
    "stacked"
   ]
  },
  {
   "cell_type": "markdown",
   "metadata": {
    "_cell_guid": "e15acb89-1dd2-4ff4-90ca-796d6dc510b3",
    "_uuid": "b8d507f4029c20f98bb3a782845bc8ca13637a82"
   },
   "source": [
    "With a “stacked” DataFrame or Series (having a MultiIndex as the index), the inverse operation of [stack()](https://pandas.pydata.org/pandas-docs/stable/generated/pandas.DataFrame.stack.html#pandas.DataFrame.stack) is [unstack()](https://pandas.pydata.org/pandas-docs/stable/generated/pandas.DataFrame.unstack.html#pandas.DataFrame.unstack), which by default unstacks the last level:"
   ]
  },
  {
   "cell_type": "code",
   "execution_count": null,
   "metadata": {
    "_cell_guid": "73d256c6-dd54-418d-b3c0-ce432f397763",
    "_uuid": "7ac035cd3392fdb6e9bc8bdf49b69c279309c018",
    "collapsed": true,
    "ExecuteTime": {
     "start_time": "2023-04-14T13:55:18.352879Z",
     "end_time": "2023-04-14T13:55:18.401358Z"
    }
   },
   "outputs": [],
   "source": [
    "stacked.unstack()"
   ]
  },
  {
   "cell_type": "code",
   "execution_count": null,
   "metadata": {
    "_cell_guid": "cd7ae481-efc0-41cb-aacf-a7388c4111c0",
    "_uuid": "904cdcfbabb4492ab2a1a573c2cbd57f72bfe4bb",
    "collapsed": true,
    "ExecuteTime": {
     "start_time": "2023-04-14T13:55:19.743595Z",
     "end_time": "2023-04-14T13:55:19.781164Z"
    }
   },
   "outputs": [],
   "source": [
    "stacked.unstack(1)"
   ]
  },
  {
   "cell_type": "code",
   "execution_count": null,
   "metadata": {
    "_cell_guid": "63d4143c-2488-40a7-9d6a-8751ed8f5bec",
    "_uuid": "21092205bbd06eab81ab2b54fc709110c8ebedee",
    "collapsed": true,
    "ExecuteTime": {
     "start_time": "2023-04-14T13:55:21.028186Z",
     "end_time": "2023-04-14T13:55:21.047270Z"
    }
   },
   "outputs": [],
   "source": [
    "stacked.unstack(0)"
   ]
  },
  {
   "cell_type": "markdown",
   "metadata": {
    "_cell_guid": "2aeae2c4-7559-4fa7-a837-4500980c823c",
    "_uuid": "6108ff3064ecc74f8d264309548f6feb125ed9be"
   },
   "source": [
    "### Pivot Tables\n",
    "See the section on [Pivot Tables](https://pandas.pydata.org/pandas-docs/stable/reshaping.html#reshaping-pivot)."
   ]
  },
  {
   "cell_type": "code",
   "execution_count": null,
   "metadata": {
    "_cell_guid": "1a188e29-26e1-4ffc-acd1-5e8fb7c99465",
    "_uuid": "0acd04af17bb429101737d38d9f603571fb3006f",
    "collapsed": true,
    "ExecuteTime": {
     "start_time": "2023-04-14T13:55:32.727686Z",
     "end_time": "2023-04-14T13:55:32.821011Z"
    }
   },
   "outputs": [],
   "source": [
    "df = pd.DataFrame({'A' : ['one', 'one', 'two', 'three'] * 3,\n",
    "                   .....:                    'B' : ['A', 'B', 'C'] * 4,\n",
    ".....:                    'C' : ['foo', 'foo', 'foo', 'bar', 'bar', 'bar'] * 2,\n",
    ".....:                    'D' : np.random.randn(12),\n",
    ".....:                    'E' : np.random.randn(12)})\n",
    "df"
   ]
  },
  {
   "cell_type": "markdown",
   "metadata": {
    "_cell_guid": "2b2e7f69-e135-4cdb-9053-15446689a343",
    "_uuid": "8a59aa522a9c86d054fc8f1917117ff7131ce9d7"
   },
   "source": [
    "We can produce pivot tables from this data very easily:"
   ]
  },
  {
   "cell_type": "code",
   "execution_count": null,
   "metadata": {
    "_cell_guid": "236b385e-a44c-4526-b7dd-826b858aec30",
    "_uuid": "24977494d59f97c71999811110baf456f25d9e1c",
    "collapsed": true,
    "ExecuteTime": {
     "start_time": "2023-04-14T13:55:34.456479Z",
     "end_time": "2023-04-14T13:55:34.515848Z"
    }
   },
   "outputs": [],
   "source": [
    "pd.pivot_table(df, values='D', index=['A', 'B'], columns=['C'])"
   ]
  },
  {
   "cell_type": "markdown",
   "metadata": {
    "_cell_guid": "d2a048eb-a0a2-49f1-8322-cec52e82f686",
    "_uuid": "1e9fb4493ac63b9741daf82d345cf4996fb534ae"
   },
   "source": [
    "# Time Series\n",
    "pandas has simple, powerful, and efficient functionality for performing resampling operations during frequency conversion (e.g., converting secondly data into 5-minutely data). This is extremely common in, but not limited to, financial applications. See the [Time Series section](https://pandas.pydata.org/pandas-docs/stable/timeseries.html#timeseries)."
   ]
  },
  {
   "cell_type": "code",
   "execution_count": null,
   "metadata": {
    "_cell_guid": "8e241bb8-4365-46e1-af4e-e212c17ab73c",
    "_uuid": "0dce2c62fa3fe83d54a964e6be8edfc70f256167",
    "collapsed": true,
    "ExecuteTime": {
     "start_time": "2023-04-14T13:55:42.729470Z",
     "end_time": "2023-04-14T13:55:42.796708Z"
    }
   },
   "outputs": [],
   "source": [
    "rng = pd.date_range('1/1/2017', periods=100, freq='S')\n",
    "ts = pd.Series(np.random.randint(0, 500, len(rng)), index=rng)\n",
    "ts.resample('5Min').sum()\n"
   ]
  },
  {
   "cell_type": "markdown",
   "metadata": {
    "_cell_guid": "0daa2a55-6a1a-468f-84a0-593aa67ce25e",
    "_uuid": "81d2d75a0ce40e06025deccd8aa025de20b03b75"
   },
   "source": [
    "Time zone representation"
   ]
  },
  {
   "cell_type": "code",
   "execution_count": null,
   "metadata": {
    "_cell_guid": "c5014c81-5303-432f-bc1f-bd4f7e667c30",
    "_uuid": "43018b7fc38618006b1ee7c3f755ff8d28c4662b",
    "collapsed": true,
    "ExecuteTime": {
     "start_time": "2023-04-14T13:55:48.266107Z",
     "end_time": "2023-04-14T13:55:48.313158Z"
    }
   },
   "outputs": [],
   "source": [
    "rng = pd.date_range('3/6/2017 00:00', periods=5, freq='D')\n",
    "ts = pd.Series(np.random.randn(len(rng)), rng)\n",
    "ts"
   ]
  },
  {
   "cell_type": "code",
   "execution_count": null,
   "metadata": {
    "_cell_guid": "641dbfaf-d904-4110-ac33-8fd6d51f35ae",
    "_uuid": "7f698edf03e66b1064830336ecfcf039d638629a",
    "collapsed": true,
    "ExecuteTime": {
     "start_time": "2023-04-14T13:55:49.293776Z",
     "end_time": "2023-04-14T13:55:49.335015Z"
    }
   },
   "outputs": [],
   "source": [
    "ts_utc = ts.tz_localize('UTC')\n",
    "ts_utc"
   ]
  },
  {
   "cell_type": "markdown",
   "metadata": {
    "_cell_guid": "1426cdde-ca90-4601-a103-5f36eab1738f",
    "_uuid": "91157d3eb394f4e4588bc97e4d45f2537e33dcca"
   },
   "source": [
    "Convert to another time zone"
   ]
  },
  {
   "cell_type": "code",
   "execution_count": null,
   "metadata": {
    "_cell_guid": "7e2e2c12-6154-418a-acbb-8d1a67825b63",
    "_uuid": "910dcb7ee20644396fb426839cf6803cb9e7bbf1",
    "collapsed": true,
    "ExecuteTime": {
     "start_time": "2023-04-14T13:55:56.626179Z",
     "end_time": "2023-04-14T13:55:56.727548Z"
    }
   },
   "outputs": [],
   "source": [
    "ts_utc.tz_convert('US/Eastern')"
   ]
  },
  {
   "cell_type": "markdown",
   "metadata": {
    "_cell_guid": "0c0f6eec-5035-48dc-a2d4-8cc84a257ab9",
    "_uuid": "aeb2afaeacdd39a558b63e59cf98c4c27e194083"
   },
   "source": [
    "Converting between time span representations"
   ]
  },
  {
   "cell_type": "code",
   "execution_count": null,
   "metadata": {
    "_cell_guid": "489d710f-c382-45f4-a368-fc78ce0819fb",
    "_uuid": "618d89ae23db202f5551fcca5f3db769843bc3a8",
    "collapsed": true,
    "ExecuteTime": {
     "start_time": "2023-04-14T13:56:01.585216Z",
     "end_time": "2023-04-14T13:56:01.628554Z"
    }
   },
   "outputs": [],
   "source": [
    "rng = pd.date_range('1/1/2012', periods=5, freq='M')\n",
    "ts = pd.Series(np.random.randn(len(rng)), index=rng)\n",
    "ts"
   ]
  },
  {
   "cell_type": "code",
   "execution_count": null,
   "metadata": {
    "_cell_guid": "46e4915f-17a5-40eb-8506-49e8e5e434a8",
    "_uuid": "31c57985582c3ef27f84933dfab9321a6e0285f8",
    "collapsed": true,
    "ExecuteTime": {
     "start_time": "2023-04-14T13:56:02.639663Z",
     "end_time": "2023-04-14T13:56:02.677872Z"
    }
   },
   "outputs": [],
   "source": [
    "ps = ts.to_period('M')\n",
    "ps"
   ]
  },
  {
   "cell_type": "code",
   "execution_count": null,
   "metadata": {
    "_cell_guid": "3a8066ba-79d4-4975-86a2-804c82fe1dd6",
    "_uuid": "1589235a92ca818bc2be2cbb0a426d529335f0b2",
    "collapsed": true,
    "ExecuteTime": {
     "start_time": "2023-04-14T13:56:03.580062Z",
     "end_time": "2023-04-14T13:56:03.614512Z"
    }
   },
   "outputs": [],
   "source": [
    "ps.to_timestamp()"
   ]
  },
  {
   "cell_type": "markdown",
   "metadata": {
    "_cell_guid": "d1e644da-5215-4870-aaf3-d1719c46588e",
    "_uuid": "1dd44d9eff96202caddabee5740aa912e9530223"
   },
   "source": [
    "Converting between period and timestamp enables some convenient arithmetic functions to be used. In the following example, we convert a quarterly frequency with year ending in November to 9am of the end of the month following the quarter end:"
   ]
  },
  {
   "cell_type": "code",
   "execution_count": null,
   "metadata": {
    "_cell_guid": "328ed5ad-d841-4b7a-8217-5e58b876daa6",
    "_uuid": "43d477d81ad7c6a7cc7dd4156eba62a794820a3e",
    "collapsed": true,
    "ExecuteTime": {
     "start_time": "2023-04-14T13:56:12.289413Z",
     "end_time": "2023-04-14T13:56:12.325550Z"
    }
   },
   "outputs": [],
   "source": [
    "prng = pd.period_range('1990Q1', '2000Q4', freq='Q-NOV')\n",
    "ts = pd.Series(np.random.randn(len(prng)), prng)\n",
    "ts.index = (prng.asfreq('M', 'e') + 1).asfreq('H', 's') + 9\n",
    "ts.head()"
   ]
  },
  {
   "cell_type": "markdown",
   "metadata": {
    "_cell_guid": "d10de9eb-33fc-4713-993b-b1acc275f8a7",
    "_uuid": "930ca52af7bf3d56dfe637764cf53dd6c91b8edf"
   },
   "source": [
    "# Categoricals\n",
    "pandas can include categorical data in a DataFrame. For full docs, see the [categorical introduction](https://pandas.pydata.org/pandas-docs/stable/categorical.html#categorical) and the [API documentation](https://pandas.pydata.org/pandas-docs/stable/api.html#api-categorical)."
   ]
  },
  {
   "cell_type": "code",
   "execution_count": null,
   "metadata": {
    "_cell_guid": "ab9789c4-b2e0-4012-8c7b-2923437a8223",
    "_uuid": "186d5dd0c91b786139eb600d599853e301e08c92",
    "collapsed": true,
    "ExecuteTime": {
     "start_time": "2023-04-14T13:56:35.018524Z",
     "end_time": "2023-04-14T13:56:35.066676Z"
    }
   },
   "outputs": [],
   "source": [
    "df = pd.DataFrame({\"id\":[1,2,3,4,5,6], \"raw_grade\":['a', 'b', 'b', 'a', 'a', 'e']})\n",
    "df"
   ]
  },
  {
   "cell_type": "markdown",
   "metadata": {
    "_cell_guid": "0d1cb293-571d-4c98-a17a-b15ead76786b",
    "_uuid": "ae51724d3f551ece6efffc7b39a325ab334631e1"
   },
   "source": [
    "Convert the raw grades to a categorical data type:"
   ]
  },
  {
   "cell_type": "code",
   "execution_count": null,
   "metadata": {
    "_cell_guid": "0fec7445-afdd-42cd-ad78-deab6ea43832",
    "_uuid": "db91d55922cbee6333b0b60b2eaa0066b1c682d8",
    "collapsed": true,
    "ExecuteTime": {
     "start_time": "2023-04-14T13:56:37.377558Z",
     "end_time": "2023-04-14T13:56:37.476817Z"
    }
   },
   "outputs": [],
   "source": [
    "df[\"grade\"] = df[\"raw_grade\"].astype(\"category\")\n",
    "df[\"grade\"]"
   ]
  },
  {
   "cell_type": "markdown",
   "metadata": {
    "_cell_guid": "21e5d042-6245-4971-803f-e527357a654e",
    "_uuid": "b2e1342efaa7495d1a001e3ec9bb53a2d3c0a7e0"
   },
   "source": [
    "Rename the categories to more meaningful names (assigning to Series.cat.categories is inplace!)"
   ]
  },
  {
   "cell_type": "code",
   "execution_count": null,
   "metadata": {
    "_cell_guid": "8e187065-c04e-4df2-b297-834d4452b5af",
    "_uuid": "1fde92f0bb025c22106fd9480bf879087b20d98b",
    "collapsed": true
   },
   "outputs": [],
   "source": [
    "df[\"grade\"].cat.categories = [\"very good\", \"good\", \"very bad\"]"
   ]
  },
  {
   "cell_type": "markdown",
   "metadata": {
    "_cell_guid": "79ff2b61-ce4f-47bf-b400-44cce807b0a3",
    "_uuid": "a3edf0571ae751050f46690aa93bff03902ba7bb"
   },
   "source": [
    "Reorder the categories and simultaneously add the missing categories (methods under Series .cat return a new Series per default)."
   ]
  },
  {
   "cell_type": "code",
   "execution_count": null,
   "metadata": {
    "_cell_guid": "17680b48-9fb9-4373-89c8-22197cd0b551",
    "_uuid": "07effd8ab8f0fcf8d202551d8c7b27d7c44676d7",
    "collapsed": true,
    "ExecuteTime": {
     "start_time": "2023-04-14T13:56:43.047131Z",
     "end_time": "2023-04-14T13:56:43.094617Z"
    }
   },
   "outputs": [],
   "source": [
    "df[\"grade\"] = df[\"grade\"].cat.set_categories([\"very bad\", \"bad\", \"medium\", \"good\", \"very good\"])\n",
    "df[\"grade\"]"
   ]
  },
  {
   "cell_type": "raw",
   "metadata": {
    "_cell_guid": "d081f4d8-b9df-427a-abdd-af50ac3e1cb6",
    "_uuid": "6f39477d1629a4dfd818f58c8f1ad54e12cb1ccc"
   },
   "source": [
    "Sorting is per order in the categories, not lexical order."
   ]
  },
  {
   "cell_type": "code",
   "execution_count": null,
   "metadata": {
    "_cell_guid": "32408bba-dbf0-44ed-b65d-03f66671e120",
    "_uuid": "cc7d213cf05e72e3eeb71438c457a0d520bd718f",
    "collapsed": true,
    "ExecuteTime": {
     "start_time": "2023-04-14T13:56:43.946895Z",
     "end_time": "2023-04-14T13:56:44.007923Z"
    }
   },
   "outputs": [],
   "source": [
    "df.sort_values(by=\"grade\")"
   ]
  },
  {
   "cell_type": "markdown",
   "metadata": {
    "_cell_guid": "c36e4653-564c-4366-bd3e-9fcd0807ee45",
    "_uuid": "35364a872dd0c030ec3b09901b464762a4000ef9"
   },
   "source": [
    "Grouping by a categorical column shows also empty categories."
   ]
  },
  {
   "cell_type": "code",
   "execution_count": null,
   "metadata": {
    "_cell_guid": "b7eb5c6c-8857-42bc-86ce-8c13dbc4044c",
    "_uuid": "300a83bdb3f4e92697b0fbf2b51ced032cdb507e",
    "collapsed": true,
    "ExecuteTime": {
     "start_time": "2023-04-14T13:56:45.030831Z",
     "end_time": "2023-04-14T13:56:45.077199Z"
    }
   },
   "outputs": [],
   "source": [
    "df.groupby(\"grade\").size()"
   ]
  },
  {
   "cell_type": "markdown",
   "metadata": {
    "_cell_guid": "f7329129-1fc9-434a-ac45-e79986ed395c",
    "_uuid": "4fad41dc8d59a36e31eee33e2e4ceadaef91ef5c"
   },
   "source": [
    "# Plotting\n",
    "[Plotting](https://pandas.pydata.org/pandas-docs/stable/visualization.html#visualization) docs"
   ]
  },
  {
   "cell_type": "code",
   "execution_count": null,
   "metadata": {
    "_cell_guid": "161bb7ae-199a-4afb-a96e-cd44ce1ad5ba",
    "_uuid": "d7773d5d125e65665d1fa5742a5d96a4c4f66869",
    "collapsed": true,
    "ExecuteTime": {
     "start_time": "2023-04-14T13:56:46.130066Z",
     "end_time": "2023-04-14T13:56:46.484035Z"
    }
   },
   "outputs": [],
   "source": [
    "ts = pd.Series(np.random.randn(1000), index=pd.date_range('1/1/2000', periods=1000))\n",
    "ts = ts.cumsum()\n",
    "ts.plot()"
   ]
  },
  {
   "cell_type": "markdown",
   "metadata": {
    "_cell_guid": "0176b40e-ada1-4bcd-8e12-d3ff15e1b0f7",
    "_uuid": "7b6fa4a5c292aeadb392e26b6b8c22de265340e6"
   },
   "source": [
    "On DataFrame, plot() is a convenience to plot all of the columns with labels:"
   ]
  },
  {
   "cell_type": "code",
   "execution_count": null,
   "metadata": {
    "_cell_guid": "486b1a48-5629-43a9-a421-ab9659b3b5c2",
    "_uuid": "dd719ceca935f661779a4ae7a9d0bdb456707afd",
    "collapsed": true,
    "ExecuteTime": {
     "start_time": "2023-04-14T13:56:47.112995Z",
     "end_time": "2023-04-14T13:56:47.602764Z"
    }
   },
   "outputs": [],
   "source": [
    "df = pd.DataFrame(np.random.randn(1000, 4), index=ts.index,\n",
    "                  .....:                   columns=['A', 'B', 'C', 'D'])\n",
    "df = df.cumsum()\n",
    "plt.figure(); df.plot(); plt.legend(loc='best')"
   ]
  },
  {
   "cell_type": "markdown",
   "metadata": {
    "_cell_guid": "8f173711-84cf-405d-a974-8f3d467a1699",
    "_uuid": "6707cccfbd1da29773303b644ad02a47e917e182"
   },
   "source": [
    "# Getting Data In/Out\n",
    "### CSV\n",
    "[Writing to a csv file](https://pandas.pydata.org/pandas-docs/stable/io.html#io-store-in-csv)."
   ]
  },
  {
   "cell_type": "code",
   "execution_count": null,
   "metadata": {
    "_cell_guid": "c2854c44-5039-4c4f-9333-f4b0f33edc5b",
    "_uuid": "f321aa65d66246497c509d32969d3e1a3d717391",
    "collapsed": true,
    "ExecuteTime": {
     "start_time": "2023-04-14T13:56:50.871880Z",
     "end_time": "2023-04-14T13:56:50.918536Z"
    }
   },
   "outputs": [],
   "source": [
    "df.to_csv('foo.csv')"
   ]
  },
  {
   "cell_type": "code",
   "execution_count": null,
   "metadata": {
    "_cell_guid": "746340a9-c552-4995-8cbd-067f7dd62e35",
    "_uuid": "c0daece574ad9366f247716b0bfe7f3fd0c9351e",
    "collapsed": true,
    "ExecuteTime": {
     "start_time": "2023-04-14T13:56:51.496526Z",
     "end_time": "2023-04-14T13:56:51.534218Z"
    }
   },
   "outputs": [],
   "source": [
    "pd.read_csv('foo.csv')"
   ]
  },
  {
   "cell_type": "markdown",
   "metadata": {
    "_cell_guid": "9150ae74-87f2-45cc-be98-402a4306eb0a",
    "_uuid": "fce91364024568435d238e35732efc3679beccd5"
   },
   "source": [
    "### HDF5\n",
    "Reading and writing to [HDFStores](https://pandas.pydata.org/pandas-docs/stable/io.html#io-hdf5).\n",
    "\n",
    "Writing to a HDF5 Store:"
   ]
  },
  {
   "cell_type": "code",
   "execution_count": null,
   "metadata": {
    "_cell_guid": "b94c044e-244b-493f-9278-43690d36694f",
    "_uuid": "a3fb0c63d5aadac15d06e76c56ada820058ef667",
    "collapsed": true
   },
   "outputs": [],
   "source": [
    "df.to_hdf('foo.h5','df')"
   ]
  },
  {
   "cell_type": "markdown",
   "metadata": {
    "_cell_guid": "1ba92b6b-8e82-438d-91c8-cbe9990d0aef",
    "_uuid": "ae23a982a9599ad470198ba616318d781b71496a"
   },
   "source": [
    "Reading from a HDF5 Store:"
   ]
  },
  {
   "cell_type": "code",
   "execution_count": null,
   "metadata": {
    "_cell_guid": "0d0cc9f7-50e5-4aef-870b-2bb728223f2d",
    "_uuid": "6920cb4f6cfcbb0cfcf806447ef236051f8c1b45",
    "collapsed": true
   },
   "outputs": [],
   "source": [
    "pd.read_hdf('foo.h5','df')"
   ]
  },
  {
   "cell_type": "markdown",
   "metadata": {
    "_cell_guid": "577ea484-5412-4e56-bce9-e7ac085f43e7",
    "_uuid": "1ed3197b98a526670ad2e5fc2fd3d783f4aa26df"
   },
   "source": [
    "### Excel\n",
    "Reading and writing to [MS Excel](https://pandas.pydata.org/pandas-docs/stable/io.html#io-excel).\n",
    "\n",
    "Writing to an excel file:"
   ]
  },
  {
   "cell_type": "code",
   "execution_count": null,
   "metadata": {
    "_cell_guid": "56ebcc49-1c6e-4fba-b0be-885bd38c8edd",
    "_uuid": "b4aa25c0d51d6981aefeb56d369f73892d89bf75",
    "collapsed": true
   },
   "outputs": [],
   "source": [
    "df.to_excel('foo.xlsx', sheet_name='Sheet1')"
   ]
  },
  {
   "cell_type": "markdown",
   "metadata": {
    "_cell_guid": "516aeff5-882d-464f-a4a8-23c39a9faa78",
    "_uuid": "53c3b30580b3f53be31cf66c379f0a930b5ebe6d"
   },
   "source": [
    "Reading from an excel file:"
   ]
  },
  {
   "cell_type": "code",
   "execution_count": null,
   "metadata": {
    "_cell_guid": "7d1fb689-56d4-4ebf-bf7e-775f55268861",
    "_uuid": "80517bdf809673c3b298888c8b2e0835e1f862dc",
    "collapsed": true
   },
   "outputs": [],
   "source": [
    "pd.read_excel('foo.xlsx', 'Sheet1', index_col=None, na_values=['NA'])"
   ]
  },
  {
   "cell_type": "markdown",
   "metadata": {
    "_cell_guid": "830c58b5-67de-4ba4-9085-1bd6f1c36103",
    "_uuid": "94a7efe1ddf6a862c752a87095e6b3d9fe895a93"
   },
   "source": [
    "# Gotchas\n",
    "If you are trying an operation and you see an exception like:"
   ]
  },
  {
   "cell_type": "code",
   "execution_count": null,
   "metadata": {
    "_cell_guid": "68e21fe7-fdee-4f1f-a6be-421232f995be",
    "_uuid": "dff1fa5f0b4cedf3d85de3d630ee37071442a840",
    "collapsed": true,
    "scrolled": true
   },
   "outputs": [],
   "source": [
    "if pd.Series([False, True, False]):\n",
    "    print(\"I was true\")"
   ]
  },
  {
   "cell_type": "markdown",
   "metadata": {
    "_cell_guid": "8ec225d7-810b-445a-a9e2-4b8ca63c9585",
    "_uuid": "ee08221d61b141f4442820ecc5b749b1f66127a0"
   },
   "source": [
    "See[ Comparisons](https://pandas.pydata.org/pandas-docs/stable/basics.html#basics-compare) for an explanation and what to do.\n",
    "\n",
    "See [Gotchas](https://pandas.pydata.org/pandas-docs/stable/gotchas.html#gotchas) as well."
   ]
  }
 ],
 "metadata": {
  "kernelspec": {
   "display_name": "Python 3",
   "language": "python",
   "name": "python3"
  },
  "language_info": {
   "codemirror_mode": {
    "name": "ipython",
    "version": 3
   },
   "file_extension": ".py",
   "mimetype": "text/x-python",
   "name": "python",
   "nbconvert_exporter": "python",
   "pygments_lexer": "ipython3",
   "version": "3.6.3"
  }
 },
 "nbformat": 4,
 "nbformat_minor": 1
}
